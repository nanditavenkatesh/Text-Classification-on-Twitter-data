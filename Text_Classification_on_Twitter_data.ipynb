{
  "nbformat": 4,
  "nbformat_minor": 0,
  "metadata": {
    "colab": {
      "provenance": [],
      "authorship_tag": "ABX9TyPBnZSMIbtvyLfHvPFtMIPQ",
      "include_colab_link": true
    },
    "kernelspec": {
      "name": "python3",
      "display_name": "Python 3"
    },
    "language_info": {
      "name": "python"
    }
  },
  "cells": [
    {
      "cell_type": "markdown",
      "metadata": {
        "id": "view-in-github",
        "colab_type": "text"
      },
      "source": [
        "<a href=\"https://colab.research.google.com/github/nanditavenkatesh/Text-Classification-on-Twitter-data/blob/main/Text_Classification_on_Twitter_data.ipynb\" target=\"_parent\"><img src=\"https://colab.research.google.com/assets/colab-badge.svg\" alt=\"Open In Colab\"/></a>"
      ]
    },
    {
      "cell_type": "markdown",
      "source": [
        "References\n",
        "1. Pandas. (n.d.). pandas.read_csv — Pandas 1.2.4 Documentation. Pandas.pydata.org. https://pandas.pydata.org/docs/reference/api/pandas.read_csv.html\n",
        "\n",
        "2. Here is how to select multiple columns in a Pandas dataframe in Python. (n.d.). Pythonhow.com. Retrieved February 2, 2024, from https://pythonhow.com/how/select-multiple-columns-in-a-pandas-dataframe/#:~:text=In%20summary%2C%20to%20select%20multiple\n",
        "\n",
        "3. sklearn.feature_extraction.DictVectorizer. (n.d.). Scikit-Learn. Retrieved February 2, 2024, from https://scikit-learn.org/stable/modules/generated/sklearn.feature_extraction.DictVectorizer.html#sklearn.feature_extraction.DictVectorizer.get_feature_names_out\n",
        "\n",
        "4. PhD, E. G. (2023, November 11). Understanding Multinomial Naive Bayes Classifier. Medium. https://medium.com/@evertongomede/understanding-multinomial-naive-bayes-classifier-fdbd41b405bf\n",
        "\n",
        "5. python - Find the item with maximum occurrences in a list. (n.d.). Stack Overflow. https://stackoverflow.com/questions/6987285/find-the-item-with-maximum-occurrences-in-a-list\n",
        "\n",
        "6. python - How do I count the occurrences of a list item? (n.d.). Stack Overflow. https://stackoverflow.com/questions/2600191/how-do-i-count-the-occurrences-of-a-list-item\n",
        "\n",
        "7. Logistic regression in Python with Scikit-learn. (2022, September 15). Mlnuggets. https://www.machinelearningnuggets.com/logistic-regression/\n",
        "\n",
        "8. Tracyrenee. (2021, September 18). Conduct a Twitter Sentiment Analysis Test using Spacy. MLearning.ai. https://medium.com/mlearning-ai/conduct-a-twitter-sentiment-analysis-test-using-spacy-7715db4b2c97\n",
        "\n",
        "9. Twitter Sentiment Analysis using Spacy. (n.d.). Kaggle.com. Retrieved February 2, 2024, from https://www.kaggle.com/code/mansimeena/twitter-sentiment-analysis-using-spacy\n",
        "\n",
        "10. Chang, E. (2021, November 28). Complete Guide to Perform Classification of Tweets with SpaCy. Medium. https://towardsdatascience.com/complete-guide-to-perform-classification-of-tweets-with-spacy-e550ee92ca79\n",
        "\n",
        "11. How do I get indices of N maximum values in a NumPy array? (n.d.). Stack Overflow. Retrieved February 2, 2024, from https://stackoverflow.com/questions/6910641/how-do-i-get-indices-of-n-maximum-values-in-a-numpy-array\n",
        "\n",
        "12. Python | Remove punctuation from string. (2020, March 30). GeeksforGeeks. https://www.geeksforgeeks.org/python-remove-punctuation-from-string/#"
      ],
      "metadata": {
        "id": "HJiHgNdLf9ov"
      }
    },
    {
      "cell_type": "markdown",
      "source": [
        "##Part 1 - Preparing Data"
      ],
      "metadata": {
        "id": "1odgU-WiGjsj"
      }
    },
    {
      "cell_type": "code",
      "source": [
        "# copy file onto google collab from github\n",
        "!wget \"https://raw.githubusercontent.com/nanditavenkatesh/CSCI_6515_NLU/main/HW1/Tweets_5K.csv\" \"Tweets_5K.csv\""
      ],
      "metadata": {
        "colab": {
          "base_uri": "https://localhost:8080/"
        },
        "id": "dz7SzSYTla8P",
        "outputId": "e44bf51a-a101-43e4-b7d7-aa672017cbc8"
      },
      "execution_count": null,
      "outputs": [
        {
          "output_type": "stream",
          "name": "stdout",
          "text": [
            "--2024-02-02 17:40:44--  https://raw.githubusercontent.com/nanditavenkatesh/CSCI_6515_NLU/main/HW1/Tweets_5K.csv\n",
            "Resolving raw.githubusercontent.com (raw.githubusercontent.com)... 185.199.108.133, 185.199.109.133, 185.199.110.133, ...\n",
            "Connecting to raw.githubusercontent.com (raw.githubusercontent.com)|185.199.108.133|:443... connected.\n",
            "HTTP request sent, awaiting response... 200 OK\n",
            "Length: 455926 (445K) [text/plain]\n",
            "Saving to: ‘Tweets_5K.csv’\n",
            "\n",
            "Tweets_5K.csv       100%[===================>] 445.24K  --.-KB/s    in 0.1s    \n",
            "\n",
            "2024-02-02 17:40:45 (3.29 MB/s) - ‘Tweets_5K.csv’ saved [455926/455926]\n",
            "\n",
            "--2024-02-02 17:40:45--  http://tweets_5k.csv/\n",
            "Resolving tweets_5k.csv (tweets_5k.csv)... failed: Name or service not known.\n",
            "wget: unable to resolve host address ‘tweets_5k.csv’\n",
            "FINISHED --2024-02-02 17:40:45--\n",
            "Total wall clock time: 1.3s\n",
            "Downloaded: 1 files, 445K in 0.1s (3.29 MB/s)\n"
          ]
        }
      ]
    },
    {
      "cell_type": "code",
      "source": [
        "#@title Imports\n",
        "\n",
        "import pandas as pd\n",
        "import numpy as np\n",
        "import matplotlib.pyplot as plt\n",
        "import nltk\n",
        "from collections import Counter\n",
        "from sklearn.feature_extraction import DictVectorizer\n",
        "from sklearn.model_selection import train_test_split\n",
        "from sklearn.naive_bayes import MultinomialNB\n",
        "from sklearn import metrics\n",
        "from sklearn.metrics import classification_report\n",
        "from sklearn.linear_model import LogisticRegression\n",
        "import seaborn as sns\n",
        "import spacy\n",
        "import string\n",
        "import re\n",
        "%matplotlib inline"
      ],
      "metadata": {
        "id": "4QNxTnSZmRZ8"
      },
      "execution_count": null,
      "outputs": []
    },
    {
      "cell_type": "code",
      "source": [
        "# read csv file into a dataframe\n",
        "raw_tweets = pd.read_csv(\"Tweets_5K.csv\")\n",
        "raw_tweets"
      ],
      "metadata": {
        "colab": {
          "base_uri": "https://localhost:8080/",
          "height": 423
        },
        "id": "ZoaFvck8l2W6",
        "outputId": "e1c59578-c8c3-41e1-d730-71b78038c79c"
      },
      "execution_count": null,
      "outputs": [
        {
          "output_type": "execute_result",
          "data": {
            "text/plain": [
              "          textID                                               text sentiment\n",
              "0     cb774db0d1                I`d have responded, if I were going   neutral\n",
              "1     549e992a42      Sooo SAD I will miss you here in San Diego!!!  negative\n",
              "2     088c60f138                          my boss is bullying me...  negative\n",
              "3     9642c003ef                     what interview! leave me alone  negative\n",
              "4     358bd9e861   Sons of ****, why couldn`t they put them on t...  negative\n",
              "...          ...                                                ...       ...\n",
              "4995  7dfa892961   look like i can only quick post from the dash...   neutral\n",
              "4996  b60b7e3175   Thanks Elaine. I`m clipping reviews for her s...  positive\n",
              "4997  efb00d5c4d  K now that, that fiasco is all wrapped and goo...  positive\n",
              "4998  65473dec6e                  No. I won`t be back until the 7th   neutral\n",
              "4999  375b64de34  Sooo tired and have a headache-all self inflic...   neutral\n",
              "\n",
              "[5000 rows x 3 columns]"
            ],
            "text/html": [
              "\n",
              "  <div id=\"df-d0730b91-4dca-4ef6-b829-312e429381a5\" class=\"colab-df-container\">\n",
              "    <div>\n",
              "<style scoped>\n",
              "    .dataframe tbody tr th:only-of-type {\n",
              "        vertical-align: middle;\n",
              "    }\n",
              "\n",
              "    .dataframe tbody tr th {\n",
              "        vertical-align: top;\n",
              "    }\n",
              "\n",
              "    .dataframe thead th {\n",
              "        text-align: right;\n",
              "    }\n",
              "</style>\n",
              "<table border=\"1\" class=\"dataframe\">\n",
              "  <thead>\n",
              "    <tr style=\"text-align: right;\">\n",
              "      <th></th>\n",
              "      <th>textID</th>\n",
              "      <th>text</th>\n",
              "      <th>sentiment</th>\n",
              "    </tr>\n",
              "  </thead>\n",
              "  <tbody>\n",
              "    <tr>\n",
              "      <th>0</th>\n",
              "      <td>cb774db0d1</td>\n",
              "      <td>I`d have responded, if I were going</td>\n",
              "      <td>neutral</td>\n",
              "    </tr>\n",
              "    <tr>\n",
              "      <th>1</th>\n",
              "      <td>549e992a42</td>\n",
              "      <td>Sooo SAD I will miss you here in San Diego!!!</td>\n",
              "      <td>negative</td>\n",
              "    </tr>\n",
              "    <tr>\n",
              "      <th>2</th>\n",
              "      <td>088c60f138</td>\n",
              "      <td>my boss is bullying me...</td>\n",
              "      <td>negative</td>\n",
              "    </tr>\n",
              "    <tr>\n",
              "      <th>3</th>\n",
              "      <td>9642c003ef</td>\n",
              "      <td>what interview! leave me alone</td>\n",
              "      <td>negative</td>\n",
              "    </tr>\n",
              "    <tr>\n",
              "      <th>4</th>\n",
              "      <td>358bd9e861</td>\n",
              "      <td>Sons of ****, why couldn`t they put them on t...</td>\n",
              "      <td>negative</td>\n",
              "    </tr>\n",
              "    <tr>\n",
              "      <th>...</th>\n",
              "      <td>...</td>\n",
              "      <td>...</td>\n",
              "      <td>...</td>\n",
              "    </tr>\n",
              "    <tr>\n",
              "      <th>4995</th>\n",
              "      <td>7dfa892961</td>\n",
              "      <td>look like i can only quick post from the dash...</td>\n",
              "      <td>neutral</td>\n",
              "    </tr>\n",
              "    <tr>\n",
              "      <th>4996</th>\n",
              "      <td>b60b7e3175</td>\n",
              "      <td>Thanks Elaine. I`m clipping reviews for her s...</td>\n",
              "      <td>positive</td>\n",
              "    </tr>\n",
              "    <tr>\n",
              "      <th>4997</th>\n",
              "      <td>efb00d5c4d</td>\n",
              "      <td>K now that, that fiasco is all wrapped and goo...</td>\n",
              "      <td>positive</td>\n",
              "    </tr>\n",
              "    <tr>\n",
              "      <th>4998</th>\n",
              "      <td>65473dec6e</td>\n",
              "      <td>No. I won`t be back until the 7th</td>\n",
              "      <td>neutral</td>\n",
              "    </tr>\n",
              "    <tr>\n",
              "      <th>4999</th>\n",
              "      <td>375b64de34</td>\n",
              "      <td>Sooo tired and have a headache-all self inflic...</td>\n",
              "      <td>neutral</td>\n",
              "    </tr>\n",
              "  </tbody>\n",
              "</table>\n",
              "<p>5000 rows × 3 columns</p>\n",
              "</div>\n",
              "    <div class=\"colab-df-buttons\">\n",
              "\n",
              "  <div class=\"colab-df-container\">\n",
              "    <button class=\"colab-df-convert\" onclick=\"convertToInteractive('df-d0730b91-4dca-4ef6-b829-312e429381a5')\"\n",
              "            title=\"Convert this dataframe to an interactive table.\"\n",
              "            style=\"display:none;\">\n",
              "\n",
              "  <svg xmlns=\"http://www.w3.org/2000/svg\" height=\"24px\" viewBox=\"0 -960 960 960\">\n",
              "    <path d=\"M120-120v-720h720v720H120Zm60-500h600v-160H180v160Zm220 220h160v-160H400v160Zm0 220h160v-160H400v160ZM180-400h160v-160H180v160Zm440 0h160v-160H620v160ZM180-180h160v-160H180v160Zm440 0h160v-160H620v160Z\"/>\n",
              "  </svg>\n",
              "    </button>\n",
              "\n",
              "  <style>\n",
              "    .colab-df-container {\n",
              "      display:flex;\n",
              "      gap: 12px;\n",
              "    }\n",
              "\n",
              "    .colab-df-convert {\n",
              "      background-color: #E8F0FE;\n",
              "      border: none;\n",
              "      border-radius: 50%;\n",
              "      cursor: pointer;\n",
              "      display: none;\n",
              "      fill: #1967D2;\n",
              "      height: 32px;\n",
              "      padding: 0 0 0 0;\n",
              "      width: 32px;\n",
              "    }\n",
              "\n",
              "    .colab-df-convert:hover {\n",
              "      background-color: #E2EBFA;\n",
              "      box-shadow: 0px 1px 2px rgba(60, 64, 67, 0.3), 0px 1px 3px 1px rgba(60, 64, 67, 0.15);\n",
              "      fill: #174EA6;\n",
              "    }\n",
              "\n",
              "    .colab-df-buttons div {\n",
              "      margin-bottom: 4px;\n",
              "    }\n",
              "\n",
              "    [theme=dark] .colab-df-convert {\n",
              "      background-color: #3B4455;\n",
              "      fill: #D2E3FC;\n",
              "    }\n",
              "\n",
              "    [theme=dark] .colab-df-convert:hover {\n",
              "      background-color: #434B5C;\n",
              "      box-shadow: 0px 1px 3px 1px rgba(0, 0, 0, 0.15);\n",
              "      filter: drop-shadow(0px 1px 2px rgba(0, 0, 0, 0.3));\n",
              "      fill: #FFFFFF;\n",
              "    }\n",
              "  </style>\n",
              "\n",
              "    <script>\n",
              "      const buttonEl =\n",
              "        document.querySelector('#df-d0730b91-4dca-4ef6-b829-312e429381a5 button.colab-df-convert');\n",
              "      buttonEl.style.display =\n",
              "        google.colab.kernel.accessAllowed ? 'block' : 'none';\n",
              "\n",
              "      async function convertToInteractive(key) {\n",
              "        const element = document.querySelector('#df-d0730b91-4dca-4ef6-b829-312e429381a5');\n",
              "        const dataTable =\n",
              "          await google.colab.kernel.invokeFunction('convertToInteractive',\n",
              "                                                    [key], {});\n",
              "        if (!dataTable) return;\n",
              "\n",
              "        const docLinkHtml = 'Like what you see? Visit the ' +\n",
              "          '<a target=\"_blank\" href=https://colab.research.google.com/notebooks/data_table.ipynb>data table notebook</a>'\n",
              "          + ' to learn more about interactive tables.';\n",
              "        element.innerHTML = '';\n",
              "        dataTable['output_type'] = 'display_data';\n",
              "        await google.colab.output.renderOutput(dataTable, element);\n",
              "        const docLink = document.createElement('div');\n",
              "        docLink.innerHTML = docLinkHtml;\n",
              "        element.appendChild(docLink);\n",
              "      }\n",
              "    </script>\n",
              "  </div>\n",
              "\n",
              "\n",
              "<div id=\"df-0f7690aa-3ba5-4877-b507-f5b4827ba2db\">\n",
              "  <button class=\"colab-df-quickchart\" onclick=\"quickchart('df-0f7690aa-3ba5-4877-b507-f5b4827ba2db')\"\n",
              "            title=\"Suggest charts\"\n",
              "            style=\"display:none;\">\n",
              "\n",
              "<svg xmlns=\"http://www.w3.org/2000/svg\" height=\"24px\"viewBox=\"0 0 24 24\"\n",
              "     width=\"24px\">\n",
              "    <g>\n",
              "        <path d=\"M19 3H5c-1.1 0-2 .9-2 2v14c0 1.1.9 2 2 2h14c1.1 0 2-.9 2-2V5c0-1.1-.9-2-2-2zM9 17H7v-7h2v7zm4 0h-2V7h2v10zm4 0h-2v-4h2v4z\"/>\n",
              "    </g>\n",
              "</svg>\n",
              "  </button>\n",
              "\n",
              "<style>\n",
              "  .colab-df-quickchart {\n",
              "      --bg-color: #E8F0FE;\n",
              "      --fill-color: #1967D2;\n",
              "      --hover-bg-color: #E2EBFA;\n",
              "      --hover-fill-color: #174EA6;\n",
              "      --disabled-fill-color: #AAA;\n",
              "      --disabled-bg-color: #DDD;\n",
              "  }\n",
              "\n",
              "  [theme=dark] .colab-df-quickchart {\n",
              "      --bg-color: #3B4455;\n",
              "      --fill-color: #D2E3FC;\n",
              "      --hover-bg-color: #434B5C;\n",
              "      --hover-fill-color: #FFFFFF;\n",
              "      --disabled-bg-color: #3B4455;\n",
              "      --disabled-fill-color: #666;\n",
              "  }\n",
              "\n",
              "  .colab-df-quickchart {\n",
              "    background-color: var(--bg-color);\n",
              "    border: none;\n",
              "    border-radius: 50%;\n",
              "    cursor: pointer;\n",
              "    display: none;\n",
              "    fill: var(--fill-color);\n",
              "    height: 32px;\n",
              "    padding: 0;\n",
              "    width: 32px;\n",
              "  }\n",
              "\n",
              "  .colab-df-quickchart:hover {\n",
              "    background-color: var(--hover-bg-color);\n",
              "    box-shadow: 0 1px 2px rgba(60, 64, 67, 0.3), 0 1px 3px 1px rgba(60, 64, 67, 0.15);\n",
              "    fill: var(--button-hover-fill-color);\n",
              "  }\n",
              "\n",
              "  .colab-df-quickchart-complete:disabled,\n",
              "  .colab-df-quickchart-complete:disabled:hover {\n",
              "    background-color: var(--disabled-bg-color);\n",
              "    fill: var(--disabled-fill-color);\n",
              "    box-shadow: none;\n",
              "  }\n",
              "\n",
              "  .colab-df-spinner {\n",
              "    border: 2px solid var(--fill-color);\n",
              "    border-color: transparent;\n",
              "    border-bottom-color: var(--fill-color);\n",
              "    animation:\n",
              "      spin 1s steps(1) infinite;\n",
              "  }\n",
              "\n",
              "  @keyframes spin {\n",
              "    0% {\n",
              "      border-color: transparent;\n",
              "      border-bottom-color: var(--fill-color);\n",
              "      border-left-color: var(--fill-color);\n",
              "    }\n",
              "    20% {\n",
              "      border-color: transparent;\n",
              "      border-left-color: var(--fill-color);\n",
              "      border-top-color: var(--fill-color);\n",
              "    }\n",
              "    30% {\n",
              "      border-color: transparent;\n",
              "      border-left-color: var(--fill-color);\n",
              "      border-top-color: var(--fill-color);\n",
              "      border-right-color: var(--fill-color);\n",
              "    }\n",
              "    40% {\n",
              "      border-color: transparent;\n",
              "      border-right-color: var(--fill-color);\n",
              "      border-top-color: var(--fill-color);\n",
              "    }\n",
              "    60% {\n",
              "      border-color: transparent;\n",
              "      border-right-color: var(--fill-color);\n",
              "    }\n",
              "    80% {\n",
              "      border-color: transparent;\n",
              "      border-right-color: var(--fill-color);\n",
              "      border-bottom-color: var(--fill-color);\n",
              "    }\n",
              "    90% {\n",
              "      border-color: transparent;\n",
              "      border-bottom-color: var(--fill-color);\n",
              "    }\n",
              "  }\n",
              "</style>\n",
              "\n",
              "  <script>\n",
              "    async function quickchart(key) {\n",
              "      const quickchartButtonEl =\n",
              "        document.querySelector('#' + key + ' button');\n",
              "      quickchartButtonEl.disabled = true;  // To prevent multiple clicks.\n",
              "      quickchartButtonEl.classList.add('colab-df-spinner');\n",
              "      try {\n",
              "        const charts = await google.colab.kernel.invokeFunction(\n",
              "            'suggestCharts', [key], {});\n",
              "      } catch (error) {\n",
              "        console.error('Error during call to suggestCharts:', error);\n",
              "      }\n",
              "      quickchartButtonEl.classList.remove('colab-df-spinner');\n",
              "      quickchartButtonEl.classList.add('colab-df-quickchart-complete');\n",
              "    }\n",
              "    (() => {\n",
              "      let quickchartButtonEl =\n",
              "        document.querySelector('#df-0f7690aa-3ba5-4877-b507-f5b4827ba2db button');\n",
              "      quickchartButtonEl.style.display =\n",
              "        google.colab.kernel.accessAllowed ? 'block' : 'none';\n",
              "    })();\n",
              "  </script>\n",
              "</div>\n",
              "    </div>\n",
              "  </div>\n"
            ]
          },
          "metadata": {},
          "execution_count": 165
        }
      ]
    },
    {
      "cell_type": "code",
      "source": [
        "# adding a column called labels with -1 for negative sentiment, 0 for neutral sentiment and 1 for positive sentiment\n",
        "raw_tweets.insert(3, \"labels\", np.where(raw_tweets[\"sentiment\"] == \"positive\",1,np.where(raw_tweets[\"sentiment\"] == \"negative\",-1,0)))\n",
        "raw_tweets"
      ],
      "metadata": {
        "colab": {
          "base_uri": "https://localhost:8080/",
          "height": 423
        },
        "id": "GjLYsddGmoVF",
        "outputId": "6f8c6bf2-77ef-4443-fcdc-65902e8fb27e"
      },
      "execution_count": null,
      "outputs": [
        {
          "output_type": "execute_result",
          "data": {
            "text/plain": [
              "          textID                                               text sentiment  \\\n",
              "0     cb774db0d1                I`d have responded, if I were going   neutral   \n",
              "1     549e992a42      Sooo SAD I will miss you here in San Diego!!!  negative   \n",
              "2     088c60f138                          my boss is bullying me...  negative   \n",
              "3     9642c003ef                     what interview! leave me alone  negative   \n",
              "4     358bd9e861   Sons of ****, why couldn`t they put them on t...  negative   \n",
              "...          ...                                                ...       ...   \n",
              "4995  7dfa892961   look like i can only quick post from the dash...   neutral   \n",
              "4996  b60b7e3175   Thanks Elaine. I`m clipping reviews for her s...  positive   \n",
              "4997  efb00d5c4d  K now that, that fiasco is all wrapped and goo...  positive   \n",
              "4998  65473dec6e                  No. I won`t be back until the 7th   neutral   \n",
              "4999  375b64de34  Sooo tired and have a headache-all self inflic...   neutral   \n",
              "\n",
              "      labels  \n",
              "0          0  \n",
              "1         -1  \n",
              "2         -1  \n",
              "3         -1  \n",
              "4         -1  \n",
              "...      ...  \n",
              "4995       0  \n",
              "4996       1  \n",
              "4997       1  \n",
              "4998       0  \n",
              "4999       0  \n",
              "\n",
              "[5000 rows x 4 columns]"
            ],
            "text/html": [
              "\n",
              "  <div id=\"df-41989d04-decb-4a1f-967f-a1fee1c51bec\" class=\"colab-df-container\">\n",
              "    <div>\n",
              "<style scoped>\n",
              "    .dataframe tbody tr th:only-of-type {\n",
              "        vertical-align: middle;\n",
              "    }\n",
              "\n",
              "    .dataframe tbody tr th {\n",
              "        vertical-align: top;\n",
              "    }\n",
              "\n",
              "    .dataframe thead th {\n",
              "        text-align: right;\n",
              "    }\n",
              "</style>\n",
              "<table border=\"1\" class=\"dataframe\">\n",
              "  <thead>\n",
              "    <tr style=\"text-align: right;\">\n",
              "      <th></th>\n",
              "      <th>textID</th>\n",
              "      <th>text</th>\n",
              "      <th>sentiment</th>\n",
              "      <th>labels</th>\n",
              "    </tr>\n",
              "  </thead>\n",
              "  <tbody>\n",
              "    <tr>\n",
              "      <th>0</th>\n",
              "      <td>cb774db0d1</td>\n",
              "      <td>I`d have responded, if I were going</td>\n",
              "      <td>neutral</td>\n",
              "      <td>0</td>\n",
              "    </tr>\n",
              "    <tr>\n",
              "      <th>1</th>\n",
              "      <td>549e992a42</td>\n",
              "      <td>Sooo SAD I will miss you here in San Diego!!!</td>\n",
              "      <td>negative</td>\n",
              "      <td>-1</td>\n",
              "    </tr>\n",
              "    <tr>\n",
              "      <th>2</th>\n",
              "      <td>088c60f138</td>\n",
              "      <td>my boss is bullying me...</td>\n",
              "      <td>negative</td>\n",
              "      <td>-1</td>\n",
              "    </tr>\n",
              "    <tr>\n",
              "      <th>3</th>\n",
              "      <td>9642c003ef</td>\n",
              "      <td>what interview! leave me alone</td>\n",
              "      <td>negative</td>\n",
              "      <td>-1</td>\n",
              "    </tr>\n",
              "    <tr>\n",
              "      <th>4</th>\n",
              "      <td>358bd9e861</td>\n",
              "      <td>Sons of ****, why couldn`t they put them on t...</td>\n",
              "      <td>negative</td>\n",
              "      <td>-1</td>\n",
              "    </tr>\n",
              "    <tr>\n",
              "      <th>...</th>\n",
              "      <td>...</td>\n",
              "      <td>...</td>\n",
              "      <td>...</td>\n",
              "      <td>...</td>\n",
              "    </tr>\n",
              "    <tr>\n",
              "      <th>4995</th>\n",
              "      <td>7dfa892961</td>\n",
              "      <td>look like i can only quick post from the dash...</td>\n",
              "      <td>neutral</td>\n",
              "      <td>0</td>\n",
              "    </tr>\n",
              "    <tr>\n",
              "      <th>4996</th>\n",
              "      <td>b60b7e3175</td>\n",
              "      <td>Thanks Elaine. I`m clipping reviews for her s...</td>\n",
              "      <td>positive</td>\n",
              "      <td>1</td>\n",
              "    </tr>\n",
              "    <tr>\n",
              "      <th>4997</th>\n",
              "      <td>efb00d5c4d</td>\n",
              "      <td>K now that, that fiasco is all wrapped and goo...</td>\n",
              "      <td>positive</td>\n",
              "      <td>1</td>\n",
              "    </tr>\n",
              "    <tr>\n",
              "      <th>4998</th>\n",
              "      <td>65473dec6e</td>\n",
              "      <td>No. I won`t be back until the 7th</td>\n",
              "      <td>neutral</td>\n",
              "      <td>0</td>\n",
              "    </tr>\n",
              "    <tr>\n",
              "      <th>4999</th>\n",
              "      <td>375b64de34</td>\n",
              "      <td>Sooo tired and have a headache-all self inflic...</td>\n",
              "      <td>neutral</td>\n",
              "      <td>0</td>\n",
              "    </tr>\n",
              "  </tbody>\n",
              "</table>\n",
              "<p>5000 rows × 4 columns</p>\n",
              "</div>\n",
              "    <div class=\"colab-df-buttons\">\n",
              "\n",
              "  <div class=\"colab-df-container\">\n",
              "    <button class=\"colab-df-convert\" onclick=\"convertToInteractive('df-41989d04-decb-4a1f-967f-a1fee1c51bec')\"\n",
              "            title=\"Convert this dataframe to an interactive table.\"\n",
              "            style=\"display:none;\">\n",
              "\n",
              "  <svg xmlns=\"http://www.w3.org/2000/svg\" height=\"24px\" viewBox=\"0 -960 960 960\">\n",
              "    <path d=\"M120-120v-720h720v720H120Zm60-500h600v-160H180v160Zm220 220h160v-160H400v160Zm0 220h160v-160H400v160ZM180-400h160v-160H180v160Zm440 0h160v-160H620v160ZM180-180h160v-160H180v160Zm440 0h160v-160H620v160Z\"/>\n",
              "  </svg>\n",
              "    </button>\n",
              "\n",
              "  <style>\n",
              "    .colab-df-container {\n",
              "      display:flex;\n",
              "      gap: 12px;\n",
              "    }\n",
              "\n",
              "    .colab-df-convert {\n",
              "      background-color: #E8F0FE;\n",
              "      border: none;\n",
              "      border-radius: 50%;\n",
              "      cursor: pointer;\n",
              "      display: none;\n",
              "      fill: #1967D2;\n",
              "      height: 32px;\n",
              "      padding: 0 0 0 0;\n",
              "      width: 32px;\n",
              "    }\n",
              "\n",
              "    .colab-df-convert:hover {\n",
              "      background-color: #E2EBFA;\n",
              "      box-shadow: 0px 1px 2px rgba(60, 64, 67, 0.3), 0px 1px 3px 1px rgba(60, 64, 67, 0.15);\n",
              "      fill: #174EA6;\n",
              "    }\n",
              "\n",
              "    .colab-df-buttons div {\n",
              "      margin-bottom: 4px;\n",
              "    }\n",
              "\n",
              "    [theme=dark] .colab-df-convert {\n",
              "      background-color: #3B4455;\n",
              "      fill: #D2E3FC;\n",
              "    }\n",
              "\n",
              "    [theme=dark] .colab-df-convert:hover {\n",
              "      background-color: #434B5C;\n",
              "      box-shadow: 0px 1px 3px 1px rgba(0, 0, 0, 0.15);\n",
              "      filter: drop-shadow(0px 1px 2px rgba(0, 0, 0, 0.3));\n",
              "      fill: #FFFFFF;\n",
              "    }\n",
              "  </style>\n",
              "\n",
              "    <script>\n",
              "      const buttonEl =\n",
              "        document.querySelector('#df-41989d04-decb-4a1f-967f-a1fee1c51bec button.colab-df-convert');\n",
              "      buttonEl.style.display =\n",
              "        google.colab.kernel.accessAllowed ? 'block' : 'none';\n",
              "\n",
              "      async function convertToInteractive(key) {\n",
              "        const element = document.querySelector('#df-41989d04-decb-4a1f-967f-a1fee1c51bec');\n",
              "        const dataTable =\n",
              "          await google.colab.kernel.invokeFunction('convertToInteractive',\n",
              "                                                    [key], {});\n",
              "        if (!dataTable) return;\n",
              "\n",
              "        const docLinkHtml = 'Like what you see? Visit the ' +\n",
              "          '<a target=\"_blank\" href=https://colab.research.google.com/notebooks/data_table.ipynb>data table notebook</a>'\n",
              "          + ' to learn more about interactive tables.';\n",
              "        element.innerHTML = '';\n",
              "        dataTable['output_type'] = 'display_data';\n",
              "        await google.colab.output.renderOutput(dataTable, element);\n",
              "        const docLink = document.createElement('div');\n",
              "        docLink.innerHTML = docLinkHtml;\n",
              "        element.appendChild(docLink);\n",
              "      }\n",
              "    </script>\n",
              "  </div>\n",
              "\n",
              "\n",
              "<div id=\"df-e90c40cb-e11e-4d12-9ab7-43008cbffc44\">\n",
              "  <button class=\"colab-df-quickchart\" onclick=\"quickchart('df-e90c40cb-e11e-4d12-9ab7-43008cbffc44')\"\n",
              "            title=\"Suggest charts\"\n",
              "            style=\"display:none;\">\n",
              "\n",
              "<svg xmlns=\"http://www.w3.org/2000/svg\" height=\"24px\"viewBox=\"0 0 24 24\"\n",
              "     width=\"24px\">\n",
              "    <g>\n",
              "        <path d=\"M19 3H5c-1.1 0-2 .9-2 2v14c0 1.1.9 2 2 2h14c1.1 0 2-.9 2-2V5c0-1.1-.9-2-2-2zM9 17H7v-7h2v7zm4 0h-2V7h2v10zm4 0h-2v-4h2v4z\"/>\n",
              "    </g>\n",
              "</svg>\n",
              "  </button>\n",
              "\n",
              "<style>\n",
              "  .colab-df-quickchart {\n",
              "      --bg-color: #E8F0FE;\n",
              "      --fill-color: #1967D2;\n",
              "      --hover-bg-color: #E2EBFA;\n",
              "      --hover-fill-color: #174EA6;\n",
              "      --disabled-fill-color: #AAA;\n",
              "      --disabled-bg-color: #DDD;\n",
              "  }\n",
              "\n",
              "  [theme=dark] .colab-df-quickchart {\n",
              "      --bg-color: #3B4455;\n",
              "      --fill-color: #D2E3FC;\n",
              "      --hover-bg-color: #434B5C;\n",
              "      --hover-fill-color: #FFFFFF;\n",
              "      --disabled-bg-color: #3B4455;\n",
              "      --disabled-fill-color: #666;\n",
              "  }\n",
              "\n",
              "  .colab-df-quickchart {\n",
              "    background-color: var(--bg-color);\n",
              "    border: none;\n",
              "    border-radius: 50%;\n",
              "    cursor: pointer;\n",
              "    display: none;\n",
              "    fill: var(--fill-color);\n",
              "    height: 32px;\n",
              "    padding: 0;\n",
              "    width: 32px;\n",
              "  }\n",
              "\n",
              "  .colab-df-quickchart:hover {\n",
              "    background-color: var(--hover-bg-color);\n",
              "    box-shadow: 0 1px 2px rgba(60, 64, 67, 0.3), 0 1px 3px 1px rgba(60, 64, 67, 0.15);\n",
              "    fill: var(--button-hover-fill-color);\n",
              "  }\n",
              "\n",
              "  .colab-df-quickchart-complete:disabled,\n",
              "  .colab-df-quickchart-complete:disabled:hover {\n",
              "    background-color: var(--disabled-bg-color);\n",
              "    fill: var(--disabled-fill-color);\n",
              "    box-shadow: none;\n",
              "  }\n",
              "\n",
              "  .colab-df-spinner {\n",
              "    border: 2px solid var(--fill-color);\n",
              "    border-color: transparent;\n",
              "    border-bottom-color: var(--fill-color);\n",
              "    animation:\n",
              "      spin 1s steps(1) infinite;\n",
              "  }\n",
              "\n",
              "  @keyframes spin {\n",
              "    0% {\n",
              "      border-color: transparent;\n",
              "      border-bottom-color: var(--fill-color);\n",
              "      border-left-color: var(--fill-color);\n",
              "    }\n",
              "    20% {\n",
              "      border-color: transparent;\n",
              "      border-left-color: var(--fill-color);\n",
              "      border-top-color: var(--fill-color);\n",
              "    }\n",
              "    30% {\n",
              "      border-color: transparent;\n",
              "      border-left-color: var(--fill-color);\n",
              "      border-top-color: var(--fill-color);\n",
              "      border-right-color: var(--fill-color);\n",
              "    }\n",
              "    40% {\n",
              "      border-color: transparent;\n",
              "      border-right-color: var(--fill-color);\n",
              "      border-top-color: var(--fill-color);\n",
              "    }\n",
              "    60% {\n",
              "      border-color: transparent;\n",
              "      border-right-color: var(--fill-color);\n",
              "    }\n",
              "    80% {\n",
              "      border-color: transparent;\n",
              "      border-right-color: var(--fill-color);\n",
              "      border-bottom-color: var(--fill-color);\n",
              "    }\n",
              "    90% {\n",
              "      border-color: transparent;\n",
              "      border-bottom-color: var(--fill-color);\n",
              "    }\n",
              "  }\n",
              "</style>\n",
              "\n",
              "  <script>\n",
              "    async function quickchart(key) {\n",
              "      const quickchartButtonEl =\n",
              "        document.querySelector('#' + key + ' button');\n",
              "      quickchartButtonEl.disabled = true;  // To prevent multiple clicks.\n",
              "      quickchartButtonEl.classList.add('colab-df-spinner');\n",
              "      try {\n",
              "        const charts = await google.colab.kernel.invokeFunction(\n",
              "            'suggestCharts', [key], {});\n",
              "      } catch (error) {\n",
              "        console.error('Error during call to suggestCharts:', error);\n",
              "      }\n",
              "      quickchartButtonEl.classList.remove('colab-df-spinner');\n",
              "      quickchartButtonEl.classList.add('colab-df-quickchart-complete');\n",
              "    }\n",
              "    (() => {\n",
              "      let quickchartButtonEl =\n",
              "        document.querySelector('#df-e90c40cb-e11e-4d12-9ab7-43008cbffc44 button');\n",
              "      quickchartButtonEl.style.display =\n",
              "        google.colab.kernel.accessAllowed ? 'block' : 'none';\n",
              "    })();\n",
              "  </script>\n",
              "</div>\n",
              "    </div>\n",
              "  </div>\n"
            ]
          },
          "metadata": {},
          "execution_count": 166
        }
      ]
    },
    {
      "cell_type": "code",
      "source": [
        "# storing labels in a list\n",
        "labels = raw_tweets[\"labels\"].to_list()"
      ],
      "metadata": {
        "id": "xv1uPyUj2Tes"
      },
      "execution_count": null,
      "outputs": []
    },
    {
      "cell_type": "code",
      "source": [
        "# converting the tweets into a list\n",
        "text = raw_tweets['text'].to_list()"
      ],
      "metadata": {
        "id": "pExLGj_z3JAQ"
      },
      "execution_count": null,
      "outputs": []
    },
    {
      "cell_type": "code",
      "source": [
        "# splitting each sentence and storing them as a list of words\n",
        "basic_preproc_tweets = []\n",
        "\n",
        "for sentence in text:\n",
        "  basic_preproc_tweets.append(sentence.split())"
      ],
      "metadata": {
        "id": "41pexEWB2tUQ"
      },
      "execution_count": null,
      "outputs": []
    },
    {
      "cell_type": "code",
      "source": [
        "# counting the occurrences of each word using Counter and storing them in a dictionary\n",
        "basic_preproc_tweets_counter = []\n",
        "\n",
        "for x in basic_preproc_tweets:\n",
        "  basic_preproc_tweets_counter.append(dict(Counter(x)))"
      ],
      "metadata": {
        "id": "w83TURYy31aV"
      },
      "execution_count": null,
      "outputs": []
    },
    {
      "cell_type": "code",
      "source": [
        "# matrix\n",
        "v = DictVectorizer(sparse = False)\n",
        "basic_preproc_bow = v.fit_transform(basic_preproc_tweets_counter)\n",
        "basic_preproc_bow.shape"
      ],
      "metadata": {
        "colab": {
          "base_uri": "https://localhost:8080/"
        },
        "id": "2ZPuNPOc32a_",
        "outputId": "cceea40c-fadd-42db-e41a-2ec26ad5bb31"
      },
      "execution_count": null,
      "outputs": [
        {
          "output_type": "execute_result",
          "data": {
            "text/plain": [
              "(5000, 15121)"
            ]
          },
          "metadata": {},
          "execution_count": 138
        }
      ]
    },
    {
      "cell_type": "code",
      "source": [
        "# laplace Smoothing\n",
        "basic_preproc_bow = basic_preproc_bow + 1"
      ],
      "metadata": {
        "id": "42IbKmVY9igx"
      },
      "execution_count": null,
      "outputs": []
    },
    {
      "cell_type": "code",
      "source": [
        "print(\"Value of X at [1460][1460]: \" ,basic_preproc_bow[1460][1460])"
      ],
      "metadata": {
        "colab": {
          "base_uri": "https://localhost:8080/"
        },
        "id": "bAJomM6B8eMD",
        "outputId": "9baf1e08-f86c-4160-e92c-293c0f62a354"
      },
      "execution_count": null,
      "outputs": [
        {
          "output_type": "stream",
          "name": "stdout",
          "text": [
            "Value of X at [1460][1460]:  1.0\n"
          ]
        }
      ]
    },
    {
      "cell_type": "code",
      "source": [
        "print(\"Feature of column 1460: \",v.get_feature_names_out()[1460])"
      ],
      "metadata": {
        "colab": {
          "base_uri": "https://localhost:8080/"
        },
        "id": "OQsp51yT5sTU",
        "outputId": "41f57f28-6b25-4b89-be25-2bba60281d26"
      },
      "execution_count": null,
      "outputs": [
        {
          "output_type": "stream",
          "name": "stdout",
          "text": [
            "Feature of column 1460:  Check:\n"
          ]
        }
      ]
    },
    {
      "cell_type": "code",
      "source": [
        "# splitting the dataset into train and test sets\n",
        "X = basic_preproc_bow\n",
        "y = labels\n",
        "X_train, X_test, y_train, y_test = train_test_split(X, y,test_size=0.20, shuffle=False)"
      ],
      "metadata": {
        "id": "JWc9QxTe8BrL"
      },
      "execution_count": null,
      "outputs": []
    },
    {
      "cell_type": "markdown",
      "source": [
        "###Conceptual Question - Part 1\n",
        "\n",
        "1. What are the dimensions of your feature matrix (X)?\n",
        "<br> **Ans:** Here, I had stored the bag of words in the Matrix 'basic_preproc_bow'. These words were first changed to lowercase and split. Then I converted them into a Matrix using DictVectorizer. The final shape of my matrix was (5000, 15121)\n",
        "\n",
        "---\n",
        "\n",
        "2. What is the value of X[1460][1460]?\n",
        "<br> **Ans:** The Value of X[1460][1460] is *1.0*\n",
        "\n",
        "---\n",
        "\n",
        "3. What does this value mean? What feature does the 1460th column represent?\n",
        "<br> **Ans:** The value is the count of the number of times the word appears in the sentence. The 1460th column represnts the word 'Check:'.\n",
        "---"
      ],
      "metadata": {
        "id": "ys2S7BcV-vlG"
      }
    },
    {
      "cell_type": "markdown",
      "source": [
        "## Part 2 - Implementing Naive Bayes"
      ],
      "metadata": {
        "id": "-Is9AuZiGt-v"
      }
    },
    {
      "cell_type": "code",
      "source": [
        "#@title SkLearn Multinomial Naive Bayes\n",
        "naive_bayes = MultinomialNB()\n",
        "naive_bayes.fit(X_train, y_train)\n",
        "\n",
        "#calling predict function\n",
        "y_pred_nb = naive_bayes.predict(X_test)\n",
        "\n",
        "#calculating accuracy\n",
        "accuracy_nb = metrics.accuracy_score(y_test, y_pred_nb)\n",
        "print(\"Accuracy:\", accuracy_nb)"
      ],
      "metadata": {
        "colab": {
          "base_uri": "https://localhost:8080/"
        },
        "id": "R4fFDOCkCtRd",
        "outputId": "803a70d4-0bf3-45f0-84ce-17c0b8cc2467"
      },
      "execution_count": null,
      "outputs": [
        {
          "output_type": "stream",
          "name": "stdout",
          "text": [
            "Accuracy: 0.43\n"
          ]
        }
      ]
    },
    {
      "cell_type": "code",
      "source": [
        "#@title Most Frequent Sentiment Classifier\n",
        "most_frequent = max(labels, key = labels.count)\n",
        "print(\"The Most frequent label is: \", most_frequent)"
      ],
      "metadata": {
        "colab": {
          "base_uri": "https://localhost:8080/"
        },
        "id": "j8ORszC8FSra",
        "outputId": "68ea91a7-1d0d-4fe5-dae6-ffae40308232"
      },
      "execution_count": null,
      "outputs": [
        {
          "output_type": "stream",
          "name": "stdout",
          "text": [
            "The Most frequent label is:  0\n"
          ]
        }
      ]
    },
    {
      "cell_type": "code",
      "source": [
        "# updating predicted label to 0 for all test data\n",
        "y_pred_freq = np.zeros(len(y_test))\n",
        "\n",
        "#calculating accuracy\n",
        "accuracy_freq = metrics.accuracy_score(y_test, y_pred_freq)\n",
        "print(\"Accuracy of Most Frequent Classifier:\", accuracy_freq)"
      ],
      "metadata": {
        "colab": {
          "base_uri": "https://localhost:8080/"
        },
        "id": "b3wFAAh3IcKM",
        "outputId": "b918a2ec-d156-47dc-a1ca-3cb486d06a5b"
      },
      "execution_count": null,
      "outputs": [
        {
          "output_type": "stream",
          "name": "stdout",
          "text": [
            "Accuracy of Most Frequent Classifier: 0.427\n"
          ]
        }
      ]
    },
    {
      "cell_type": "markdown",
      "source": [
        "###  Conceptual Question - Part 2\n",
        "\n",
        "\n"
      ],
      "metadata": {
        "id": "e7Mc4bNJHr_e"
      }
    },
    {
      "cell_type": "markdown",
      "source": [
        "\n",
        "####1.\n",
        "\n",
        "Calculate whether the Naive Bayes classifier you trained would classify the following tweet as positive, neutral, or negative: “Happy birthday Annemarie”. You should do this by hand and show your work, but you can use code to get the relevant probabilities (basically, the goal of this question is to make sure that you understand how Naive Bayes works).\n"
      ],
      "metadata": {
        "id": "BEaPCQupMo_Q"
      }
    },
    {
      "cell_type": "markdown",
      "source": [
        "**Calculations done with the help of code**"
      ],
      "metadata": {
        "id": "ZaRFOGu0Q3U8"
      }
    },
    {
      "cell_type": "code",
      "source": [
        "#@title Calculating Class priors from training set\n",
        "count_labels = dict(Counter(y_train))\n",
        "print(\"Count of each label\",count_labels)\n",
        "\n",
        "# calculating probabilities of each label\n",
        "\n",
        "P_positive = count_labels[1]/4000\n",
        "P_negative = count_labels[-1]/4000\n",
        "P_neutral = count_labels[0]/4000\n",
        "\n",
        "print(\"Probability of class 'Positive': \", P_positive)\n",
        "print(\"Probability of class 'Negative': \", P_negative)\n",
        "print(\"Probability of class 'Neutral': \", P_neutral)"
      ],
      "metadata": {
        "colab": {
          "base_uri": "https://localhost:8080/"
        },
        "id": "GKYAly30HwYZ",
        "outputId": "bc4a3567-451b-466f-b743-f391cc18e0ad"
      },
      "execution_count": null,
      "outputs": [
        {
          "output_type": "stream",
          "name": "stdout",
          "text": [
            "Count of each label {0: 1596, -1: 1120, 1: 1284}\n",
            "Probability of class 'Positive':  0.321\n",
            "Probability of class 'Negative':  0.28\n",
            "Probability of class 'Neutral':  0.399\n"
          ]
        }
      ]
    },
    {
      "cell_type": "code",
      "source": [
        "#@title Drop words that were not seen before\n",
        "index_dict = {}\n",
        "feature_list = v.get_feature_names_out()\n",
        "test_Sentence = [\"Happy\", \"birthday\", \"Annemarie\"]\n",
        "for x in test_Sentence:\n",
        "  if np.where(feature_list == x)[0].size == 0:\n",
        "    print(x, \" is not found\")\n",
        "  else:\n",
        "    index_dict[x] = np.where(feature_list == x)[0][0]"
      ],
      "metadata": {
        "id": "d6dfEcWlTb32",
        "colab": {
          "base_uri": "https://localhost:8080/"
        },
        "outputId": "91be2ec8-d04e-4dfd-97e5-f85e7b237d9b"
      },
      "execution_count": null,
      "outputs": [
        {
          "output_type": "stream",
          "name": "stdout",
          "text": [
            "Annemarie  is not found\n"
          ]
        }
      ]
    },
    {
      "cell_type": "code",
      "source": [
        "index_dict"
      ],
      "metadata": {
        "colab": {
          "base_uri": "https://localhost:8080/"
        },
        "id": "VUgoLLup86GS",
        "outputId": "170952d2-1b5f-4dc7-f873-3d1d92583749"
      },
      "execution_count": null,
      "outputs": [
        {
          "output_type": "execute_result",
          "data": {
            "text/plain": [
              "{'Happy': 2304, 'birthday': 5785}"
            ]
          },
          "metadata": {},
          "execution_count": 148
        }
      ]
    },
    {
      "cell_type": "code",
      "source": [
        "#@title Likelihoods from training for \"Happy\" and \"birthday\"\n",
        "label_set = [-1,0,1]\n",
        "sum_dict = {}\n",
        "for label in label_set:\n",
        "  label_indices = np.where(np.array(y_train) == label)[0]\n",
        "  sum_row = 0\n",
        "  sum_Happy = 0\n",
        "  sum_birthday = 0\n",
        "  for x in label_indices:\n",
        "    sum_row += np.sum(X_train[x])\n",
        "    sum_Happy += X_train[x][index_dict['Happy']]\n",
        "    sum_birthday += X_train[x][index_dict['birthday']]\n",
        "  sum_dict[label] = {\"sum_row\" : sum_row, \"sum_Happy\" : sum_Happy, \"sum_birthday\" : sum_birthday}"
      ],
      "metadata": {
        "id": "Ei5G0CqQ-6Mk"
      },
      "execution_count": null,
      "outputs": []
    },
    {
      "cell_type": "code",
      "source": [
        "sum_dict"
      ],
      "metadata": {
        "colab": {
          "base_uri": "https://localhost:8080/"
        },
        "id": "GBA3IoP5DCYB",
        "outputId": "3478697e-ee68-48db-fc55-639a2f2ba9dd"
      },
      "execution_count": null,
      "outputs": [
        {
          "output_type": "execute_result",
          "data": {
            "text/plain": [
              "{-1: {'sum_row': 16950578.0, 'sum_Happy': 1122.0, 'sum_birthday': 1121.0},\n",
              " 0: {'sum_row': 24153184.0, 'sum_Happy': 1600.0, 'sum_birthday': 1601.0},\n",
              " 1: {'sum_row': 19432106.0, 'sum_Happy': 1343.0, 'sum_birthday': 1292.0}}"
            ]
          },
          "metadata": {},
          "execution_count": 150
        }
      ]
    },
    {
      "cell_type": "code",
      "source": [
        "# probabilities calculated\n",
        "prob_dict = {}\n",
        "for label in label_set:\n",
        "   prob_dict[label] = {'Happy': (sum_dict[label]['sum_Happy']/sum_dict[label]['sum_row']), 'birthday': (sum_dict[label]['sum_birthday']/sum_dict[label]['sum_row']) }"
      ],
      "metadata": {
        "id": "fj4Da5tQDw8-"
      },
      "execution_count": null,
      "outputs": []
    },
    {
      "cell_type": "code",
      "source": [
        "prob_dict"
      ],
      "metadata": {
        "colab": {
          "base_uri": "https://localhost:8080/"
        },
        "id": "SWVyaGTuFWu2",
        "outputId": "0ae74e3e-4742-4bcc-ab31-c7ad4598d563"
      },
      "execution_count": null,
      "outputs": [
        {
          "output_type": "execute_result",
          "data": {
            "text/plain": [
              "{-1: {'Happy': 6.619243308399277e-05, 'birthday': 6.613343804559349e-05},\n",
              " 0: {'Happy': 6.624385422642414e-05, 'birthday': 6.628525663531565e-05},\n",
              " 1: {'Happy': 6.91124266201512e-05, 'birthday': 6.648790409027205e-05}}"
            ]
          },
          "metadata": {},
          "execution_count": 152
        }
      ]
    },
    {
      "cell_type": "code",
      "source": [
        "#@title Scoring test set for Positive, Negative and Neutral\n",
        "P_scored_positive = prob_dict[1]['Happy'] * prob_dict[1]['birthday'] * P_positive\n",
        "P_scored_negative = prob_dict[-1]['Happy'] * prob_dict[-1]['birthday'] * P_negative\n",
        "P_scored_neutral = prob_dict[0]['Happy'] * prob_dict[0]['birthday'] * P_neutral\n",
        "\n",
        "print(\"Positive Probability score for 'Happy birthday': \",P_scored_positive)\n",
        "print(\"Negative Probability score for 'Happy birthday': \",P_scored_negative)\n",
        "print(\"Neutral Probability score for 'Happy birthday': \",P_scored_neutral)"
      ],
      "metadata": {
        "colab": {
          "base_uri": "https://localhost:8080/"
        },
        "id": "uVMGjRduFg_B",
        "outputId": "3f2c12f1-4b43-4cc2-b29b-49bc827af175"
      },
      "execution_count": null,
      "outputs": [
        {
          "output_type": "stream",
          "name": "stdout",
          "text": [
            "Positive Probability score for 'Happy birthday':  1.4750400660138714e-09\n",
            "Negative Probability score for 'Happy birthday':  1.2257092882852522e-09\n",
            "Neutral Probability score for 'Happy birthday':  1.7520053602864746e-09\n"
          ]
        }
      ]
    },
    {
      "cell_type": "markdown",
      "source": [
        "**Ans**: Since the probability score for Neutral sentiment is the highest, \"Happy birthday annemarie\" is classified as neutral.\n",
        "\n",
        "---"
      ],
      "metadata": {
        "id": "Gozgnd22G38e"
      }
    },
    {
      "cell_type": "markdown",
      "source": [
        "####2.\n",
        "Report the model’s accuracy on the unseen test set. How does this compare to a classifier that always outputs the most frequent category in the training set (what is that classifier’s accuracy)?\n",
        "\n",
        "<br> **Ans:** The model for Naive Bayes achieves an accuracy of 43%, while the model with Most frequent sentiment as classifier achieves an accuracy of 42.7%. Naive Bayes is only performing marginally better than baseline.\n",
        "\n",
        "---"
      ],
      "metadata": {
        "id": "e5RKiuQNMaLP"
      }
    },
    {
      "cell_type": "markdown",
      "source": [
        "## Part 3 - Implementing Logistic Regression"
      ],
      "metadata": {
        "id": "zRpGlQO2HP_Z"
      }
    },
    {
      "cell_type": "code",
      "source": [
        "#@title Logistic Regression using skLearn\n",
        "classifier = LogisticRegression(random_state = None, max_iter = 150)\n",
        "classifier.fit(X_train, y_train)\n",
        "\n",
        "# calling predict function\n",
        "y_pred_lr = classifier.predict(X_test)\n",
        "\n",
        "#calculating accuracy\n",
        "accuracy_lr = metrics.accuracy_score(y_test, y_pred_lr)\n",
        "print(\"Accuracy:\", accuracy_lr)"
      ],
      "metadata": {
        "id": "MC6-SL4nMk4M"
      },
      "execution_count": null,
      "outputs": []
    },
    {
      "cell_type": "code",
      "source": [
        "print(\"Classifier parameters: \",(len(classifier.coef_[0])+len(classifier.coef_[1])+len(classifier.coef_[-1])))"
      ],
      "metadata": {
        "colab": {
          "base_uri": "https://localhost:8080/"
        },
        "id": "spyjvgfILCzF",
        "outputId": "102d5c1d-78a1-4e9a-be98-f3b559945a61"
      },
      "execution_count": null,
      "outputs": [
        {
          "output_type": "stream",
          "name": "stdout",
          "text": [
            "Classifier parameters:  45363\n"
          ]
        }
      ]
    },
    {
      "cell_type": "markdown",
      "source": [
        "###Conceptual Question - Part 3\n",
        "\n",
        "1. In class, we learned how to do binary logistic regression between 2 options. Here, there are three possible classifications, so sklearn uses a “one vs. rest” scheme where it learns a binary logistic regression model for each possible label (i.e., one logistic regression which learns to separate positive from non-positive tweets, a second that learns to separate negative from non-negative tweets, and a final logistic regression that learns to separate neutral from non-neutral tweets. How many parameters did your multiclass logistic regression model learn?\n",
        "<br>**Ans:** For each classifier the number of parameters were 15121. Total number of parameters 45363.\n",
        "---\n",
        "\n",
        "2. Report the model’s accuracy on the unseen test set. How does this compare to a classifier that always outputs the most frequent category in the training set and the Naive Bayes classifier from Part 2?\n",
        "<br>**Ans:** Logistic Regression model achieved an accuracy 58.3%. The model for Naive Bayes achieves an accuracy of 43%, while the model with Most frequent sentiment as classifier achieves an accuracy of 42.7%. Naive Bayes is only performing marginally better than baseline, while logistic regression is significantly better and seems to have learned some properties from the sentences.\n",
        "---"
      ],
      "metadata": {
        "id": "UaOxvCeHKr7E"
      }
    },
    {
      "cell_type": "markdown",
      "source": [
        "## Part 4 - Implementing more elaborate pre-processing"
      ],
      "metadata": {
        "id": "bYY0BNHCKoAn"
      }
    },
    {
      "cell_type": "code",
      "source": [
        "# load the english library from spacy\n",
        "nlp = spacy.load(\"en_core_web_sm\")"
      ],
      "metadata": {
        "id": "d3K5JOC5iPO9"
      },
      "execution_count": null,
      "outputs": []
    },
    {
      "cell_type": "code",
      "source": [
        "#creating a new df for pre_processsing\n",
        "pre_process_text = pd.DataFrame()\n",
        "pre_process_text = raw_tweets.copy()\n",
        "\n",
        "pre_process_text"
      ],
      "metadata": {
        "colab": {
          "base_uri": "https://localhost:8080/",
          "height": 423
        },
        "id": "vKDfTvdd8LZK",
        "outputId": "76b24c7a-9dfc-4b8e-cca0-5f9b9d040f57"
      },
      "execution_count": null,
      "outputs": [
        {
          "output_type": "execute_result",
          "data": {
            "text/plain": [
              "          textID                                               text sentiment  \\\n",
              "0     cb774db0d1                I`d have responded, if I were going   neutral   \n",
              "1     549e992a42      Sooo SAD I will miss you here in San Diego!!!  negative   \n",
              "2     088c60f138                          my boss is bullying me...  negative   \n",
              "3     9642c003ef                     what interview! leave me alone  negative   \n",
              "4     358bd9e861   Sons of ****, why couldn`t they put them on t...  negative   \n",
              "...          ...                                                ...       ...   \n",
              "4995  7dfa892961   look like i can only quick post from the dash...   neutral   \n",
              "4996  b60b7e3175   Thanks Elaine. I`m clipping reviews for her s...  positive   \n",
              "4997  efb00d5c4d  K now that, that fiasco is all wrapped and goo...  positive   \n",
              "4998  65473dec6e                  No. I won`t be back until the 7th   neutral   \n",
              "4999  375b64de34  Sooo tired and have a headache-all self inflic...   neutral   \n",
              "\n",
              "      labels  \n",
              "0          0  \n",
              "1         -1  \n",
              "2         -1  \n",
              "3         -1  \n",
              "4         -1  \n",
              "...      ...  \n",
              "4995       0  \n",
              "4996       1  \n",
              "4997       1  \n",
              "4998       0  \n",
              "4999       0  \n",
              "\n",
              "[5000 rows x 4 columns]"
            ],
            "text/html": [
              "\n",
              "  <div id=\"df-f4a23806-c4bc-4553-a61d-1ed156161cf5\" class=\"colab-df-container\">\n",
              "    <div>\n",
              "<style scoped>\n",
              "    .dataframe tbody tr th:only-of-type {\n",
              "        vertical-align: middle;\n",
              "    }\n",
              "\n",
              "    .dataframe tbody tr th {\n",
              "        vertical-align: top;\n",
              "    }\n",
              "\n",
              "    .dataframe thead th {\n",
              "        text-align: right;\n",
              "    }\n",
              "</style>\n",
              "<table border=\"1\" class=\"dataframe\">\n",
              "  <thead>\n",
              "    <tr style=\"text-align: right;\">\n",
              "      <th></th>\n",
              "      <th>textID</th>\n",
              "      <th>text</th>\n",
              "      <th>sentiment</th>\n",
              "      <th>labels</th>\n",
              "    </tr>\n",
              "  </thead>\n",
              "  <tbody>\n",
              "    <tr>\n",
              "      <th>0</th>\n",
              "      <td>cb774db0d1</td>\n",
              "      <td>I`d have responded, if I were going</td>\n",
              "      <td>neutral</td>\n",
              "      <td>0</td>\n",
              "    </tr>\n",
              "    <tr>\n",
              "      <th>1</th>\n",
              "      <td>549e992a42</td>\n",
              "      <td>Sooo SAD I will miss you here in San Diego!!!</td>\n",
              "      <td>negative</td>\n",
              "      <td>-1</td>\n",
              "    </tr>\n",
              "    <tr>\n",
              "      <th>2</th>\n",
              "      <td>088c60f138</td>\n",
              "      <td>my boss is bullying me...</td>\n",
              "      <td>negative</td>\n",
              "      <td>-1</td>\n",
              "    </tr>\n",
              "    <tr>\n",
              "      <th>3</th>\n",
              "      <td>9642c003ef</td>\n",
              "      <td>what interview! leave me alone</td>\n",
              "      <td>negative</td>\n",
              "      <td>-1</td>\n",
              "    </tr>\n",
              "    <tr>\n",
              "      <th>4</th>\n",
              "      <td>358bd9e861</td>\n",
              "      <td>Sons of ****, why couldn`t they put them on t...</td>\n",
              "      <td>negative</td>\n",
              "      <td>-1</td>\n",
              "    </tr>\n",
              "    <tr>\n",
              "      <th>...</th>\n",
              "      <td>...</td>\n",
              "      <td>...</td>\n",
              "      <td>...</td>\n",
              "      <td>...</td>\n",
              "    </tr>\n",
              "    <tr>\n",
              "      <th>4995</th>\n",
              "      <td>7dfa892961</td>\n",
              "      <td>look like i can only quick post from the dash...</td>\n",
              "      <td>neutral</td>\n",
              "      <td>0</td>\n",
              "    </tr>\n",
              "    <tr>\n",
              "      <th>4996</th>\n",
              "      <td>b60b7e3175</td>\n",
              "      <td>Thanks Elaine. I`m clipping reviews for her s...</td>\n",
              "      <td>positive</td>\n",
              "      <td>1</td>\n",
              "    </tr>\n",
              "    <tr>\n",
              "      <th>4997</th>\n",
              "      <td>efb00d5c4d</td>\n",
              "      <td>K now that, that fiasco is all wrapped and goo...</td>\n",
              "      <td>positive</td>\n",
              "      <td>1</td>\n",
              "    </tr>\n",
              "    <tr>\n",
              "      <th>4998</th>\n",
              "      <td>65473dec6e</td>\n",
              "      <td>No. I won`t be back until the 7th</td>\n",
              "      <td>neutral</td>\n",
              "      <td>0</td>\n",
              "    </tr>\n",
              "    <tr>\n",
              "      <th>4999</th>\n",
              "      <td>375b64de34</td>\n",
              "      <td>Sooo tired and have a headache-all self inflic...</td>\n",
              "      <td>neutral</td>\n",
              "      <td>0</td>\n",
              "    </tr>\n",
              "  </tbody>\n",
              "</table>\n",
              "<p>5000 rows × 4 columns</p>\n",
              "</div>\n",
              "    <div class=\"colab-df-buttons\">\n",
              "\n",
              "  <div class=\"colab-df-container\">\n",
              "    <button class=\"colab-df-convert\" onclick=\"convertToInteractive('df-f4a23806-c4bc-4553-a61d-1ed156161cf5')\"\n",
              "            title=\"Convert this dataframe to an interactive table.\"\n",
              "            style=\"display:none;\">\n",
              "\n",
              "  <svg xmlns=\"http://www.w3.org/2000/svg\" height=\"24px\" viewBox=\"0 -960 960 960\">\n",
              "    <path d=\"M120-120v-720h720v720H120Zm60-500h600v-160H180v160Zm220 220h160v-160H400v160Zm0 220h160v-160H400v160ZM180-400h160v-160H180v160Zm440 0h160v-160H620v160ZM180-180h160v-160H180v160Zm440 0h160v-160H620v160Z\"/>\n",
              "  </svg>\n",
              "    </button>\n",
              "\n",
              "  <style>\n",
              "    .colab-df-container {\n",
              "      display:flex;\n",
              "      gap: 12px;\n",
              "    }\n",
              "\n",
              "    .colab-df-convert {\n",
              "      background-color: #E8F0FE;\n",
              "      border: none;\n",
              "      border-radius: 50%;\n",
              "      cursor: pointer;\n",
              "      display: none;\n",
              "      fill: #1967D2;\n",
              "      height: 32px;\n",
              "      padding: 0 0 0 0;\n",
              "      width: 32px;\n",
              "    }\n",
              "\n",
              "    .colab-df-convert:hover {\n",
              "      background-color: #E2EBFA;\n",
              "      box-shadow: 0px 1px 2px rgba(60, 64, 67, 0.3), 0px 1px 3px 1px rgba(60, 64, 67, 0.15);\n",
              "      fill: #174EA6;\n",
              "    }\n",
              "\n",
              "    .colab-df-buttons div {\n",
              "      margin-bottom: 4px;\n",
              "    }\n",
              "\n",
              "    [theme=dark] .colab-df-convert {\n",
              "      background-color: #3B4455;\n",
              "      fill: #D2E3FC;\n",
              "    }\n",
              "\n",
              "    [theme=dark] .colab-df-convert:hover {\n",
              "      background-color: #434B5C;\n",
              "      box-shadow: 0px 1px 3px 1px rgba(0, 0, 0, 0.15);\n",
              "      filter: drop-shadow(0px 1px 2px rgba(0, 0, 0, 0.3));\n",
              "      fill: #FFFFFF;\n",
              "    }\n",
              "  </style>\n",
              "\n",
              "    <script>\n",
              "      const buttonEl =\n",
              "        document.querySelector('#df-f4a23806-c4bc-4553-a61d-1ed156161cf5 button.colab-df-convert');\n",
              "      buttonEl.style.display =\n",
              "        google.colab.kernel.accessAllowed ? 'block' : 'none';\n",
              "\n",
              "      async function convertToInteractive(key) {\n",
              "        const element = document.querySelector('#df-f4a23806-c4bc-4553-a61d-1ed156161cf5');\n",
              "        const dataTable =\n",
              "          await google.colab.kernel.invokeFunction('convertToInteractive',\n",
              "                                                    [key], {});\n",
              "        if (!dataTable) return;\n",
              "\n",
              "        const docLinkHtml = 'Like what you see? Visit the ' +\n",
              "          '<a target=\"_blank\" href=https://colab.research.google.com/notebooks/data_table.ipynb>data table notebook</a>'\n",
              "          + ' to learn more about interactive tables.';\n",
              "        element.innerHTML = '';\n",
              "        dataTable['output_type'] = 'display_data';\n",
              "        await google.colab.output.renderOutput(dataTable, element);\n",
              "        const docLink = document.createElement('div');\n",
              "        docLink.innerHTML = docLinkHtml;\n",
              "        element.appendChild(docLink);\n",
              "      }\n",
              "    </script>\n",
              "  </div>\n",
              "\n",
              "\n",
              "<div id=\"df-47851fbb-866f-4b09-b9f9-eb97357faf7c\">\n",
              "  <button class=\"colab-df-quickchart\" onclick=\"quickchart('df-47851fbb-866f-4b09-b9f9-eb97357faf7c')\"\n",
              "            title=\"Suggest charts\"\n",
              "            style=\"display:none;\">\n",
              "\n",
              "<svg xmlns=\"http://www.w3.org/2000/svg\" height=\"24px\"viewBox=\"0 0 24 24\"\n",
              "     width=\"24px\">\n",
              "    <g>\n",
              "        <path d=\"M19 3H5c-1.1 0-2 .9-2 2v14c0 1.1.9 2 2 2h14c1.1 0 2-.9 2-2V5c0-1.1-.9-2-2-2zM9 17H7v-7h2v7zm4 0h-2V7h2v10zm4 0h-2v-4h2v4z\"/>\n",
              "    </g>\n",
              "</svg>\n",
              "  </button>\n",
              "\n",
              "<style>\n",
              "  .colab-df-quickchart {\n",
              "      --bg-color: #E8F0FE;\n",
              "      --fill-color: #1967D2;\n",
              "      --hover-bg-color: #E2EBFA;\n",
              "      --hover-fill-color: #174EA6;\n",
              "      --disabled-fill-color: #AAA;\n",
              "      --disabled-bg-color: #DDD;\n",
              "  }\n",
              "\n",
              "  [theme=dark] .colab-df-quickchart {\n",
              "      --bg-color: #3B4455;\n",
              "      --fill-color: #D2E3FC;\n",
              "      --hover-bg-color: #434B5C;\n",
              "      --hover-fill-color: #FFFFFF;\n",
              "      --disabled-bg-color: #3B4455;\n",
              "      --disabled-fill-color: #666;\n",
              "  }\n",
              "\n",
              "  .colab-df-quickchart {\n",
              "    background-color: var(--bg-color);\n",
              "    border: none;\n",
              "    border-radius: 50%;\n",
              "    cursor: pointer;\n",
              "    display: none;\n",
              "    fill: var(--fill-color);\n",
              "    height: 32px;\n",
              "    padding: 0;\n",
              "    width: 32px;\n",
              "  }\n",
              "\n",
              "  .colab-df-quickchart:hover {\n",
              "    background-color: var(--hover-bg-color);\n",
              "    box-shadow: 0 1px 2px rgba(60, 64, 67, 0.3), 0 1px 3px 1px rgba(60, 64, 67, 0.15);\n",
              "    fill: var(--button-hover-fill-color);\n",
              "  }\n",
              "\n",
              "  .colab-df-quickchart-complete:disabled,\n",
              "  .colab-df-quickchart-complete:disabled:hover {\n",
              "    background-color: var(--disabled-bg-color);\n",
              "    fill: var(--disabled-fill-color);\n",
              "    box-shadow: none;\n",
              "  }\n",
              "\n",
              "  .colab-df-spinner {\n",
              "    border: 2px solid var(--fill-color);\n",
              "    border-color: transparent;\n",
              "    border-bottom-color: var(--fill-color);\n",
              "    animation:\n",
              "      spin 1s steps(1) infinite;\n",
              "  }\n",
              "\n",
              "  @keyframes spin {\n",
              "    0% {\n",
              "      border-color: transparent;\n",
              "      border-bottom-color: var(--fill-color);\n",
              "      border-left-color: var(--fill-color);\n",
              "    }\n",
              "    20% {\n",
              "      border-color: transparent;\n",
              "      border-left-color: var(--fill-color);\n",
              "      border-top-color: var(--fill-color);\n",
              "    }\n",
              "    30% {\n",
              "      border-color: transparent;\n",
              "      border-left-color: var(--fill-color);\n",
              "      border-top-color: var(--fill-color);\n",
              "      border-right-color: var(--fill-color);\n",
              "    }\n",
              "    40% {\n",
              "      border-color: transparent;\n",
              "      border-right-color: var(--fill-color);\n",
              "      border-top-color: var(--fill-color);\n",
              "    }\n",
              "    60% {\n",
              "      border-color: transparent;\n",
              "      border-right-color: var(--fill-color);\n",
              "    }\n",
              "    80% {\n",
              "      border-color: transparent;\n",
              "      border-right-color: var(--fill-color);\n",
              "      border-bottom-color: var(--fill-color);\n",
              "    }\n",
              "    90% {\n",
              "      border-color: transparent;\n",
              "      border-bottom-color: var(--fill-color);\n",
              "    }\n",
              "  }\n",
              "</style>\n",
              "\n",
              "  <script>\n",
              "    async function quickchart(key) {\n",
              "      const quickchartButtonEl =\n",
              "        document.querySelector('#' + key + ' button');\n",
              "      quickchartButtonEl.disabled = true;  // To prevent multiple clicks.\n",
              "      quickchartButtonEl.classList.add('colab-df-spinner');\n",
              "      try {\n",
              "        const charts = await google.colab.kernel.invokeFunction(\n",
              "            'suggestCharts', [key], {});\n",
              "      } catch (error) {\n",
              "        console.error('Error during call to suggestCharts:', error);\n",
              "      }\n",
              "      quickchartButtonEl.classList.remove('colab-df-spinner');\n",
              "      quickchartButtonEl.classList.add('colab-df-quickchart-complete');\n",
              "    }\n",
              "    (() => {\n",
              "      let quickchartButtonEl =\n",
              "        document.querySelector('#df-47851fbb-866f-4b09-b9f9-eb97357faf7c button');\n",
              "      quickchartButtonEl.style.display =\n",
              "        google.colab.kernel.accessAllowed ? 'block' : 'none';\n",
              "    })();\n",
              "  </script>\n",
              "</div>\n",
              "    </div>\n",
              "  </div>\n"
            ]
          },
          "metadata": {},
          "execution_count": 245
        }
      ]
    },
    {
      "cell_type": "code",
      "source": [
        "#@title Pre-process data\n",
        "\n",
        "# Create list of stopwords from spaCy\n",
        "stopwords = spacy.lang.en.stop_words.STOP_WORDS\n",
        "\n",
        "# Creat tokenizer function\n",
        "def pre_processing(sen):\n",
        "\n",
        "  # Create token object from spacy\n",
        "  tokens = nlp(sen)\n",
        "\n",
        "  # Lemmatize each token and convert each token into lowercase\n",
        "  tokens = [word.lemma_.lower().strip() for word in tokens]\n",
        "\n",
        "  # Remove stopwords and white spaces and Remove punctuations\n",
        "  tokens = [word for word in tokens if word not in stopwords and word.isalnum()]\n",
        "\n",
        "  # change all numbers to NUM\n",
        "  tokens = ['NUM' if not token.isalpha() else token for token in tokens]\n",
        "\n",
        "  # return preprocessed list of tokens\n",
        "  return tokens\n",
        "\n",
        "# extract only tweets\n",
        "pre_process_text['pre_processed_text'] = pre_process_text['text'].apply(pre_processing)\n"
      ],
      "metadata": {
        "id": "zOTuvN_DQ4cH"
      },
      "execution_count": null,
      "outputs": []
    },
    {
      "cell_type": "code",
      "source": [
        "pre_process_text['pre_processed_text']"
      ],
      "metadata": {
        "colab": {
          "base_uri": "https://localhost:8080/"
        },
        "id": "sY6wz7vS5mNv",
        "outputId": "26d11a28-2cb3-4dfd-8770-fe2fe9414d86"
      },
      "execution_count": null,
      "outputs": [
        {
          "output_type": "execute_result",
          "data": {
            "text/plain": [
              "0                                               [respond]\n",
              "1                           [sooo, sad, miss, san, diego]\n",
              "2                                           [boss, bully]\n",
              "3                                      [interview, leave]\n",
              "4                                     [son, release, buy]\n",
              "                              ...                        \n",
              "4995                 [look, like, quick, post, dashboard]\n",
              "4996            [thanks, elaine, clip, review, scrapbook]\n",
              "4997              [k, fiasco, wrap, good, study, midterm]\n",
              "4998                                                [NUM]\n",
              "4999    [sooo, tired, headache, self, inflict, course,...\n",
              "Name: pre_processed_text, Length: 5000, dtype: object"
            ]
          },
          "metadata": {},
          "execution_count": 247
        }
      ]
    },
    {
      "cell_type": "code",
      "source": [
        "# converting the pre-processed tweets into a list\n",
        "pre_processed_text_list = pre_process_text['pre_processed_text'].to_list()"
      ],
      "metadata": {
        "id": "JTdgsR2MutRS"
      },
      "execution_count": null,
      "outputs": []
    },
    {
      "cell_type": "code",
      "source": [
        "# counting the occurrences of each word using Counter and storing them in a dictionary\n",
        "basic_preproc_tweets_counter_pre_processed = []\n",
        "\n",
        "for x in pre_process_text['pre_processed_text']:\n",
        "  basic_preproc_tweets_counter_pre_processed.append(dict(Counter(x)))"
      ],
      "metadata": {
        "id": "o9DtZCCXu8Uy"
      },
      "execution_count": null,
      "outputs": []
    },
    {
      "cell_type": "code",
      "source": [
        "# matrix\n",
        "v_pp = DictVectorizer(sparse = False)\n",
        "basic_preproc_bow_pp = v_pp.fit_transform(basic_preproc_tweets_counter_pre_processed)\n",
        "basic_preproc_bow_pp.shape"
      ],
      "metadata": {
        "colab": {
          "base_uri": "https://localhost:8080/"
        },
        "id": "FLzqoaIIvaEp",
        "outputId": "ab1dc898-b966-4f07-fa29-7f14be31fa13"
      },
      "execution_count": null,
      "outputs": [
        {
          "output_type": "execute_result",
          "data": {
            "text/plain": [
              "(5000, 6960)"
            ]
          },
          "metadata": {},
          "execution_count": 250
        }
      ]
    },
    {
      "cell_type": "code",
      "source": [
        "# discussed with Aditya Somani\n",
        "# removing top 1000 most common words\n",
        "frequency_of_words = basic_preproc_bow_pp.sum(axis=0)\n",
        "most_common_words_index = np.argpartition(frequency_of_words, -1000)[-1000:]\n",
        "np.sort(most_common_words_index)\n",
        "word_index = [i for i in range(basic_preproc_bow_pp.shape[1]) if i not in most_common_words_index]\n",
        "\n",
        "unchanged_cols = basic_preproc_bow_pp[:, most_common_words_index]\n",
        "combined_col = np.sum(basic_preproc_bow_pp[:, word_index], axis=1, keepdims=True)\n",
        "#Combining top 1000 features with sum of all other features and adding laplace smoothing\n",
        "updated_preproc_bow = np.hstack((unchanged_cols, combined_col)) + 1"
      ],
      "metadata": {
        "id": "4EhyIT07ydXE"
      },
      "execution_count": null,
      "outputs": []
    },
    {
      "cell_type": "code",
      "source": [
        "# splitting the dataset into train and test sets\n",
        "X_pre_processed = updated_preproc_bow\n",
        "y_pre_processed = labels\n",
        "X_train_pre_processed, X_test_pre_processed, y_train_pre_processed, y_test_pre_processed = train_test_split(X_pre_processed, y_pre_processed, test_size=0.20, shuffle=False)"
      ],
      "metadata": {
        "id": "Iv5DGlNEv5j3"
      },
      "execution_count": null,
      "outputs": []
    },
    {
      "cell_type": "code",
      "source": [
        "#@title SkLearn Multinomial Naive Bayes on pre-processed tweets\n",
        "naive_bayes_pp = MultinomialNB()\n",
        "naive_bayes_pp.fit(X_train_pre_processed, y_train_pre_processed)\n",
        "\n",
        "#calling predict function\n",
        "y_pred_nb_pp = naive_bayes_pp.predict(X_test_pre_processed)\n",
        "\n",
        "#calculating accuracy\n",
        "accuracy_nb_pp = metrics.accuracy_score(y_test_pre_processed, y_pred_nb_pp)\n",
        "print(\"Accuracy:\", accuracy_nb_pp)"
      ],
      "metadata": {
        "colab": {
          "base_uri": "https://localhost:8080/"
        },
        "id": "P2eUVPv0xjhr",
        "outputId": "8fb6eba1-b06a-45cd-f747-d48605e169ea"
      },
      "execution_count": null,
      "outputs": [
        {
          "output_type": "stream",
          "name": "stdout",
          "text": [
            "Accuracy: 0.434\n"
          ]
        }
      ]
    },
    {
      "cell_type": "code",
      "source": [
        "#@title Logistic Regression using skLearn on pre-processed tweets\n",
        "classifier_pp = LogisticRegression(random_state = None, max_iter = 3000)\n",
        "classifier_pp.fit(X_train_pre_processed, y_train_pre_processed)\n",
        "\n",
        "# calling predict function\n",
        "y_pred_lr_pp = classifier_pp.predict(X_test_pre_processed)\n",
        "\n",
        "#calculating accuracy\n",
        "accuracy_lr_pp = metrics.accuracy_score(y_test_pre_processed, y_pred_lr_pp)\n",
        "print(\"Accuracy:\", accuracy_lr_pp)"
      ],
      "metadata": {
        "colab": {
          "base_uri": "https://localhost:8080/"
        },
        "id": "GeT8egDTx6Gn",
        "outputId": "4c56fe44-8f25-4e53-a057-944218a08088"
      },
      "execution_count": null,
      "outputs": [
        {
          "output_type": "stream",
          "name": "stdout",
          "text": [
            "Accuracy: 0.633\n"
          ]
        }
      ]
    },
    {
      "cell_type": "markdown",
      "source": [
        "###Conceptual Question - Part 4\n",
        "\n",
        "1. How does this impact the performance of your Naive Bayes and Logistic Regression classification results?\n",
        "<br>**Ans:** With both Naive bayes and Logistic regression, the classification results improved after using pre-processed data.\n",
        "\n",
        "Naive Bayes achieved accuracy of 43.4% compared to 43% which was seen earlier.\n",
        "\n",
        "Logistic Regression achieved accuracy of 63.3% compared to 58.3% which was seen earlier.\n",
        "\n",
        "\n",
        "---"
      ],
      "metadata": {
        "id": "fMvurNU0RWRk"
      }
    },
    {
      "cell_type": "markdown",
      "source": [
        "## Part 5\n",
        "\n",
        "###1.\n",
        "Propose and implement at least one addition to the workflow that you think will improve performance (but please still use Naive Bayes or Logistic Regression). Specifically, you can add a pre-processing step, add a feature (or class of features), etc. Explain why you chose this feature and why you think it might help performance. Report the classifier’s accuracy on the test set. Did this help as expected? Note: You will not be graded on whether your change actually improved performance.\n",
        "\n",
        "<br> **Ans:** After Studying the article Chang, E. (2021, November 28). Complete Guide to Perform Classification of Tweets with SpaCy. Medium. https://towardsdatascience.com/complete-guide-to-perform-classification-of-tweets-with-spacy-e550ee92ca79, I thought about removing words less than 2 charactes and proper nouns to see if it would improve performance. I thought that this might improve performance since most common stop words are less than 2 characters and that proper nouns are usually not helpful in identifying the sentiment of a sentence.\n",
        "\n",
        "After adding these steps to pre-processing I observed that the accuracy for Naive Bayes went down to 42.9%, less than Naive Bayes without pre-processing but marginally better than Most Frequent Classifier. The same goes for Logistic Regression; after these steps, I observed an accuracy of 62%, which was better than Logistic Regression without pre-processing but lesser than logistic regression with pre-processing before the additional steps were added."
      ],
      "metadata": {
        "id": "byR03upu_a4G"
      }
    },
    {
      "cell_type": "code",
      "source": [
        "#creating a new df for pre_processsing\n",
        "pre_process_text = pd.DataFrame()\n",
        "pre_process_text = raw_tweets.copy()\n",
        "\n",
        "pre_process_text"
      ],
      "metadata": {
        "colab": {
          "base_uri": "https://localhost:8080/",
          "height": 423
        },
        "id": "DU6qCow0_Z74",
        "outputId": "8f2c2c7d-c440-4a73-b9f1-a02d2277d4bf"
      },
      "execution_count": null,
      "outputs": [
        {
          "output_type": "execute_result",
          "data": {
            "text/plain": [
              "          textID                                               text sentiment  \\\n",
              "0     cb774db0d1                I`d have responded, if I were going   neutral   \n",
              "1     549e992a42      Sooo SAD I will miss you here in San Diego!!!  negative   \n",
              "2     088c60f138                          my boss is bullying me...  negative   \n",
              "3     9642c003ef                     what interview! leave me alone  negative   \n",
              "4     358bd9e861   Sons of ****, why couldn`t they put them on t...  negative   \n",
              "...          ...                                                ...       ...   \n",
              "4995  7dfa892961   look like i can only quick post from the dash...   neutral   \n",
              "4996  b60b7e3175   Thanks Elaine. I`m clipping reviews for her s...  positive   \n",
              "4997  efb00d5c4d  K now that, that fiasco is all wrapped and goo...  positive   \n",
              "4998  65473dec6e                  No. I won`t be back until the 7th   neutral   \n",
              "4999  375b64de34  Sooo tired and have a headache-all self inflic...   neutral   \n",
              "\n",
              "      labels  \n",
              "0          0  \n",
              "1         -1  \n",
              "2         -1  \n",
              "3         -1  \n",
              "4         -1  \n",
              "...      ...  \n",
              "4995       0  \n",
              "4996       1  \n",
              "4997       1  \n",
              "4998       0  \n",
              "4999       0  \n",
              "\n",
              "[5000 rows x 4 columns]"
            ],
            "text/html": [
              "\n",
              "  <div id=\"df-7cc76a7d-48fc-49ec-ba01-f70e3a9d8fd4\" class=\"colab-df-container\">\n",
              "    <div>\n",
              "<style scoped>\n",
              "    .dataframe tbody tr th:only-of-type {\n",
              "        vertical-align: middle;\n",
              "    }\n",
              "\n",
              "    .dataframe tbody tr th {\n",
              "        vertical-align: top;\n",
              "    }\n",
              "\n",
              "    .dataframe thead th {\n",
              "        text-align: right;\n",
              "    }\n",
              "</style>\n",
              "<table border=\"1\" class=\"dataframe\">\n",
              "  <thead>\n",
              "    <tr style=\"text-align: right;\">\n",
              "      <th></th>\n",
              "      <th>textID</th>\n",
              "      <th>text</th>\n",
              "      <th>sentiment</th>\n",
              "      <th>labels</th>\n",
              "    </tr>\n",
              "  </thead>\n",
              "  <tbody>\n",
              "    <tr>\n",
              "      <th>0</th>\n",
              "      <td>cb774db0d1</td>\n",
              "      <td>I`d have responded, if I were going</td>\n",
              "      <td>neutral</td>\n",
              "      <td>0</td>\n",
              "    </tr>\n",
              "    <tr>\n",
              "      <th>1</th>\n",
              "      <td>549e992a42</td>\n",
              "      <td>Sooo SAD I will miss you here in San Diego!!!</td>\n",
              "      <td>negative</td>\n",
              "      <td>-1</td>\n",
              "    </tr>\n",
              "    <tr>\n",
              "      <th>2</th>\n",
              "      <td>088c60f138</td>\n",
              "      <td>my boss is bullying me...</td>\n",
              "      <td>negative</td>\n",
              "      <td>-1</td>\n",
              "    </tr>\n",
              "    <tr>\n",
              "      <th>3</th>\n",
              "      <td>9642c003ef</td>\n",
              "      <td>what interview! leave me alone</td>\n",
              "      <td>negative</td>\n",
              "      <td>-1</td>\n",
              "    </tr>\n",
              "    <tr>\n",
              "      <th>4</th>\n",
              "      <td>358bd9e861</td>\n",
              "      <td>Sons of ****, why couldn`t they put them on t...</td>\n",
              "      <td>negative</td>\n",
              "      <td>-1</td>\n",
              "    </tr>\n",
              "    <tr>\n",
              "      <th>...</th>\n",
              "      <td>...</td>\n",
              "      <td>...</td>\n",
              "      <td>...</td>\n",
              "      <td>...</td>\n",
              "    </tr>\n",
              "    <tr>\n",
              "      <th>4995</th>\n",
              "      <td>7dfa892961</td>\n",
              "      <td>look like i can only quick post from the dash...</td>\n",
              "      <td>neutral</td>\n",
              "      <td>0</td>\n",
              "    </tr>\n",
              "    <tr>\n",
              "      <th>4996</th>\n",
              "      <td>b60b7e3175</td>\n",
              "      <td>Thanks Elaine. I`m clipping reviews for her s...</td>\n",
              "      <td>positive</td>\n",
              "      <td>1</td>\n",
              "    </tr>\n",
              "    <tr>\n",
              "      <th>4997</th>\n",
              "      <td>efb00d5c4d</td>\n",
              "      <td>K now that, that fiasco is all wrapped and goo...</td>\n",
              "      <td>positive</td>\n",
              "      <td>1</td>\n",
              "    </tr>\n",
              "    <tr>\n",
              "      <th>4998</th>\n",
              "      <td>65473dec6e</td>\n",
              "      <td>No. I won`t be back until the 7th</td>\n",
              "      <td>neutral</td>\n",
              "      <td>0</td>\n",
              "    </tr>\n",
              "    <tr>\n",
              "      <th>4999</th>\n",
              "      <td>375b64de34</td>\n",
              "      <td>Sooo tired and have a headache-all self inflic...</td>\n",
              "      <td>neutral</td>\n",
              "      <td>0</td>\n",
              "    </tr>\n",
              "  </tbody>\n",
              "</table>\n",
              "<p>5000 rows × 4 columns</p>\n",
              "</div>\n",
              "    <div class=\"colab-df-buttons\">\n",
              "\n",
              "  <div class=\"colab-df-container\">\n",
              "    <button class=\"colab-df-convert\" onclick=\"convertToInteractive('df-7cc76a7d-48fc-49ec-ba01-f70e3a9d8fd4')\"\n",
              "            title=\"Convert this dataframe to an interactive table.\"\n",
              "            style=\"display:none;\">\n",
              "\n",
              "  <svg xmlns=\"http://www.w3.org/2000/svg\" height=\"24px\" viewBox=\"0 -960 960 960\">\n",
              "    <path d=\"M120-120v-720h720v720H120Zm60-500h600v-160H180v160Zm220 220h160v-160H400v160Zm0 220h160v-160H400v160ZM180-400h160v-160H180v160Zm440 0h160v-160H620v160ZM180-180h160v-160H180v160Zm440 0h160v-160H620v160Z\"/>\n",
              "  </svg>\n",
              "    </button>\n",
              "\n",
              "  <style>\n",
              "    .colab-df-container {\n",
              "      display:flex;\n",
              "      gap: 12px;\n",
              "    }\n",
              "\n",
              "    .colab-df-convert {\n",
              "      background-color: #E8F0FE;\n",
              "      border: none;\n",
              "      border-radius: 50%;\n",
              "      cursor: pointer;\n",
              "      display: none;\n",
              "      fill: #1967D2;\n",
              "      height: 32px;\n",
              "      padding: 0 0 0 0;\n",
              "      width: 32px;\n",
              "    }\n",
              "\n",
              "    .colab-df-convert:hover {\n",
              "      background-color: #E2EBFA;\n",
              "      box-shadow: 0px 1px 2px rgba(60, 64, 67, 0.3), 0px 1px 3px 1px rgba(60, 64, 67, 0.15);\n",
              "      fill: #174EA6;\n",
              "    }\n",
              "\n",
              "    .colab-df-buttons div {\n",
              "      margin-bottom: 4px;\n",
              "    }\n",
              "\n",
              "    [theme=dark] .colab-df-convert {\n",
              "      background-color: #3B4455;\n",
              "      fill: #D2E3FC;\n",
              "    }\n",
              "\n",
              "    [theme=dark] .colab-df-convert:hover {\n",
              "      background-color: #434B5C;\n",
              "      box-shadow: 0px 1px 3px 1px rgba(0, 0, 0, 0.15);\n",
              "      filter: drop-shadow(0px 1px 2px rgba(0, 0, 0, 0.3));\n",
              "      fill: #FFFFFF;\n",
              "    }\n",
              "  </style>\n",
              "\n",
              "    <script>\n",
              "      const buttonEl =\n",
              "        document.querySelector('#df-7cc76a7d-48fc-49ec-ba01-f70e3a9d8fd4 button.colab-df-convert');\n",
              "      buttonEl.style.display =\n",
              "        google.colab.kernel.accessAllowed ? 'block' : 'none';\n",
              "\n",
              "      async function convertToInteractive(key) {\n",
              "        const element = document.querySelector('#df-7cc76a7d-48fc-49ec-ba01-f70e3a9d8fd4');\n",
              "        const dataTable =\n",
              "          await google.colab.kernel.invokeFunction('convertToInteractive',\n",
              "                                                    [key], {});\n",
              "        if (!dataTable) return;\n",
              "\n",
              "        const docLinkHtml = 'Like what you see? Visit the ' +\n",
              "          '<a target=\"_blank\" href=https://colab.research.google.com/notebooks/data_table.ipynb>data table notebook</a>'\n",
              "          + ' to learn more about interactive tables.';\n",
              "        element.innerHTML = '';\n",
              "        dataTable['output_type'] = 'display_data';\n",
              "        await google.colab.output.renderOutput(dataTable, element);\n",
              "        const docLink = document.createElement('div');\n",
              "        docLink.innerHTML = docLinkHtml;\n",
              "        element.appendChild(docLink);\n",
              "      }\n",
              "    </script>\n",
              "  </div>\n",
              "\n",
              "\n",
              "<div id=\"df-649c54b3-8d68-4429-b6be-5db5f8533662\">\n",
              "  <button class=\"colab-df-quickchart\" onclick=\"quickchart('df-649c54b3-8d68-4429-b6be-5db5f8533662')\"\n",
              "            title=\"Suggest charts\"\n",
              "            style=\"display:none;\">\n",
              "\n",
              "<svg xmlns=\"http://www.w3.org/2000/svg\" height=\"24px\"viewBox=\"0 0 24 24\"\n",
              "     width=\"24px\">\n",
              "    <g>\n",
              "        <path d=\"M19 3H5c-1.1 0-2 .9-2 2v14c0 1.1.9 2 2 2h14c1.1 0 2-.9 2-2V5c0-1.1-.9-2-2-2zM9 17H7v-7h2v7zm4 0h-2V7h2v10zm4 0h-2v-4h2v4z\"/>\n",
              "    </g>\n",
              "</svg>\n",
              "  </button>\n",
              "\n",
              "<style>\n",
              "  .colab-df-quickchart {\n",
              "      --bg-color: #E8F0FE;\n",
              "      --fill-color: #1967D2;\n",
              "      --hover-bg-color: #E2EBFA;\n",
              "      --hover-fill-color: #174EA6;\n",
              "      --disabled-fill-color: #AAA;\n",
              "      --disabled-bg-color: #DDD;\n",
              "  }\n",
              "\n",
              "  [theme=dark] .colab-df-quickchart {\n",
              "      --bg-color: #3B4455;\n",
              "      --fill-color: #D2E3FC;\n",
              "      --hover-bg-color: #434B5C;\n",
              "      --hover-fill-color: #FFFFFF;\n",
              "      --disabled-bg-color: #3B4455;\n",
              "      --disabled-fill-color: #666;\n",
              "  }\n",
              "\n",
              "  .colab-df-quickchart {\n",
              "    background-color: var(--bg-color);\n",
              "    border: none;\n",
              "    border-radius: 50%;\n",
              "    cursor: pointer;\n",
              "    display: none;\n",
              "    fill: var(--fill-color);\n",
              "    height: 32px;\n",
              "    padding: 0;\n",
              "    width: 32px;\n",
              "  }\n",
              "\n",
              "  .colab-df-quickchart:hover {\n",
              "    background-color: var(--hover-bg-color);\n",
              "    box-shadow: 0 1px 2px rgba(60, 64, 67, 0.3), 0 1px 3px 1px rgba(60, 64, 67, 0.15);\n",
              "    fill: var(--button-hover-fill-color);\n",
              "  }\n",
              "\n",
              "  .colab-df-quickchart-complete:disabled,\n",
              "  .colab-df-quickchart-complete:disabled:hover {\n",
              "    background-color: var(--disabled-bg-color);\n",
              "    fill: var(--disabled-fill-color);\n",
              "    box-shadow: none;\n",
              "  }\n",
              "\n",
              "  .colab-df-spinner {\n",
              "    border: 2px solid var(--fill-color);\n",
              "    border-color: transparent;\n",
              "    border-bottom-color: var(--fill-color);\n",
              "    animation:\n",
              "      spin 1s steps(1) infinite;\n",
              "  }\n",
              "\n",
              "  @keyframes spin {\n",
              "    0% {\n",
              "      border-color: transparent;\n",
              "      border-bottom-color: var(--fill-color);\n",
              "      border-left-color: var(--fill-color);\n",
              "    }\n",
              "    20% {\n",
              "      border-color: transparent;\n",
              "      border-left-color: var(--fill-color);\n",
              "      border-top-color: var(--fill-color);\n",
              "    }\n",
              "    30% {\n",
              "      border-color: transparent;\n",
              "      border-left-color: var(--fill-color);\n",
              "      border-top-color: var(--fill-color);\n",
              "      border-right-color: var(--fill-color);\n",
              "    }\n",
              "    40% {\n",
              "      border-color: transparent;\n",
              "      border-right-color: var(--fill-color);\n",
              "      border-top-color: var(--fill-color);\n",
              "    }\n",
              "    60% {\n",
              "      border-color: transparent;\n",
              "      border-right-color: var(--fill-color);\n",
              "    }\n",
              "    80% {\n",
              "      border-color: transparent;\n",
              "      border-right-color: var(--fill-color);\n",
              "      border-bottom-color: var(--fill-color);\n",
              "    }\n",
              "    90% {\n",
              "      border-color: transparent;\n",
              "      border-bottom-color: var(--fill-color);\n",
              "    }\n",
              "  }\n",
              "</style>\n",
              "\n",
              "  <script>\n",
              "    async function quickchart(key) {\n",
              "      const quickchartButtonEl =\n",
              "        document.querySelector('#' + key + ' button');\n",
              "      quickchartButtonEl.disabled = true;  // To prevent multiple clicks.\n",
              "      quickchartButtonEl.classList.add('colab-df-spinner');\n",
              "      try {\n",
              "        const charts = await google.colab.kernel.invokeFunction(\n",
              "            'suggestCharts', [key], {});\n",
              "      } catch (error) {\n",
              "        console.error('Error during call to suggestCharts:', error);\n",
              "      }\n",
              "      quickchartButtonEl.classList.remove('colab-df-spinner');\n",
              "      quickchartButtonEl.classList.add('colab-df-quickchart-complete');\n",
              "    }\n",
              "    (() => {\n",
              "      let quickchartButtonEl =\n",
              "        document.querySelector('#df-649c54b3-8d68-4429-b6be-5db5f8533662 button');\n",
              "      quickchartButtonEl.style.display =\n",
              "        google.colab.kernel.accessAllowed ? 'block' : 'none';\n",
              "    })();\n",
              "  </script>\n",
              "</div>\n",
              "    </div>\n",
              "  </div>\n"
            ]
          },
          "metadata": {},
          "execution_count": 233
        }
      ]
    },
    {
      "cell_type": "code",
      "source": [
        "#@title Remove words less than 2 character\n",
        "pre_process_text['text'] = pre_process_text['text'].apply(lambda x:' '.join([w for w in x.split() if len(w)>2]))\n",
        "pre_process_text"
      ],
      "metadata": {
        "colab": {
          "base_uri": "https://localhost:8080/",
          "height": 423
        },
        "id": "43tRLp2PGaCG",
        "outputId": "2e950474-e6e2-4b3e-8fac-39fe6cf88e59"
      },
      "execution_count": null,
      "outputs": [
        {
          "output_type": "execute_result",
          "data": {
            "text/plain": [
              "          textID                                               text sentiment  \\\n",
              "0     cb774db0d1                     I`d have responded, were going   neutral   \n",
              "1     549e992a42           Sooo SAD will miss you here San Diego!!!  negative   \n",
              "2     088c60f138                                boss bullying me...  negative   \n",
              "3     9642c003ef                        what interview! leave alone  negative   \n",
              "4     358bd9e861  Sons ****, why couldn`t they put them the rele...  negative   \n",
              "...          ...                                                ...       ...   \n",
              "4995  7dfa892961  look like can only quick post from the dashboa...   neutral   \n",
              "4996  b60b7e3175  Thanks Elaine. I`m clipping reviews for her sc...  positive   \n",
              "4997  efb00d5c4d  now that, that fiasco all wrapped and good too...  positive   \n",
              "4998  65473dec6e                       No. won`t back until the 7th   neutral   \n",
              "4999  375b64de34  Sooo tired and have headache-all self inflicte...   neutral   \n",
              "\n",
              "      labels  \n",
              "0          0  \n",
              "1         -1  \n",
              "2         -1  \n",
              "3         -1  \n",
              "4         -1  \n",
              "...      ...  \n",
              "4995       0  \n",
              "4996       1  \n",
              "4997       1  \n",
              "4998       0  \n",
              "4999       0  \n",
              "\n",
              "[5000 rows x 4 columns]"
            ],
            "text/html": [
              "\n",
              "  <div id=\"df-57e784ed-4577-4271-9513-3d25cb9ebec7\" class=\"colab-df-container\">\n",
              "    <div>\n",
              "<style scoped>\n",
              "    .dataframe tbody tr th:only-of-type {\n",
              "        vertical-align: middle;\n",
              "    }\n",
              "\n",
              "    .dataframe tbody tr th {\n",
              "        vertical-align: top;\n",
              "    }\n",
              "\n",
              "    .dataframe thead th {\n",
              "        text-align: right;\n",
              "    }\n",
              "</style>\n",
              "<table border=\"1\" class=\"dataframe\">\n",
              "  <thead>\n",
              "    <tr style=\"text-align: right;\">\n",
              "      <th></th>\n",
              "      <th>textID</th>\n",
              "      <th>text</th>\n",
              "      <th>sentiment</th>\n",
              "      <th>labels</th>\n",
              "    </tr>\n",
              "  </thead>\n",
              "  <tbody>\n",
              "    <tr>\n",
              "      <th>0</th>\n",
              "      <td>cb774db0d1</td>\n",
              "      <td>I`d have responded, were going</td>\n",
              "      <td>neutral</td>\n",
              "      <td>0</td>\n",
              "    </tr>\n",
              "    <tr>\n",
              "      <th>1</th>\n",
              "      <td>549e992a42</td>\n",
              "      <td>Sooo SAD will miss you here San Diego!!!</td>\n",
              "      <td>negative</td>\n",
              "      <td>-1</td>\n",
              "    </tr>\n",
              "    <tr>\n",
              "      <th>2</th>\n",
              "      <td>088c60f138</td>\n",
              "      <td>boss bullying me...</td>\n",
              "      <td>negative</td>\n",
              "      <td>-1</td>\n",
              "    </tr>\n",
              "    <tr>\n",
              "      <th>3</th>\n",
              "      <td>9642c003ef</td>\n",
              "      <td>what interview! leave alone</td>\n",
              "      <td>negative</td>\n",
              "      <td>-1</td>\n",
              "    </tr>\n",
              "    <tr>\n",
              "      <th>4</th>\n",
              "      <td>358bd9e861</td>\n",
              "      <td>Sons ****, why couldn`t they put them the rele...</td>\n",
              "      <td>negative</td>\n",
              "      <td>-1</td>\n",
              "    </tr>\n",
              "    <tr>\n",
              "      <th>...</th>\n",
              "      <td>...</td>\n",
              "      <td>...</td>\n",
              "      <td>...</td>\n",
              "      <td>...</td>\n",
              "    </tr>\n",
              "    <tr>\n",
              "      <th>4995</th>\n",
              "      <td>7dfa892961</td>\n",
              "      <td>look like can only quick post from the dashboa...</td>\n",
              "      <td>neutral</td>\n",
              "      <td>0</td>\n",
              "    </tr>\n",
              "    <tr>\n",
              "      <th>4996</th>\n",
              "      <td>b60b7e3175</td>\n",
              "      <td>Thanks Elaine. I`m clipping reviews for her sc...</td>\n",
              "      <td>positive</td>\n",
              "      <td>1</td>\n",
              "    </tr>\n",
              "    <tr>\n",
              "      <th>4997</th>\n",
              "      <td>efb00d5c4d</td>\n",
              "      <td>now that, that fiasco all wrapped and good too...</td>\n",
              "      <td>positive</td>\n",
              "      <td>1</td>\n",
              "    </tr>\n",
              "    <tr>\n",
              "      <th>4998</th>\n",
              "      <td>65473dec6e</td>\n",
              "      <td>No. won`t back until the 7th</td>\n",
              "      <td>neutral</td>\n",
              "      <td>0</td>\n",
              "    </tr>\n",
              "    <tr>\n",
              "      <th>4999</th>\n",
              "      <td>375b64de34</td>\n",
              "      <td>Sooo tired and have headache-all self inflicte...</td>\n",
              "      <td>neutral</td>\n",
              "      <td>0</td>\n",
              "    </tr>\n",
              "  </tbody>\n",
              "</table>\n",
              "<p>5000 rows × 4 columns</p>\n",
              "</div>\n",
              "    <div class=\"colab-df-buttons\">\n",
              "\n",
              "  <div class=\"colab-df-container\">\n",
              "    <button class=\"colab-df-convert\" onclick=\"convertToInteractive('df-57e784ed-4577-4271-9513-3d25cb9ebec7')\"\n",
              "            title=\"Convert this dataframe to an interactive table.\"\n",
              "            style=\"display:none;\">\n",
              "\n",
              "  <svg xmlns=\"http://www.w3.org/2000/svg\" height=\"24px\" viewBox=\"0 -960 960 960\">\n",
              "    <path d=\"M120-120v-720h720v720H120Zm60-500h600v-160H180v160Zm220 220h160v-160H400v160Zm0 220h160v-160H400v160ZM180-400h160v-160H180v160Zm440 0h160v-160H620v160ZM180-180h160v-160H180v160Zm440 0h160v-160H620v160Z\"/>\n",
              "  </svg>\n",
              "    </button>\n",
              "\n",
              "  <style>\n",
              "    .colab-df-container {\n",
              "      display:flex;\n",
              "      gap: 12px;\n",
              "    }\n",
              "\n",
              "    .colab-df-convert {\n",
              "      background-color: #E8F0FE;\n",
              "      border: none;\n",
              "      border-radius: 50%;\n",
              "      cursor: pointer;\n",
              "      display: none;\n",
              "      fill: #1967D2;\n",
              "      height: 32px;\n",
              "      padding: 0 0 0 0;\n",
              "      width: 32px;\n",
              "    }\n",
              "\n",
              "    .colab-df-convert:hover {\n",
              "      background-color: #E2EBFA;\n",
              "      box-shadow: 0px 1px 2px rgba(60, 64, 67, 0.3), 0px 1px 3px 1px rgba(60, 64, 67, 0.15);\n",
              "      fill: #174EA6;\n",
              "    }\n",
              "\n",
              "    .colab-df-buttons div {\n",
              "      margin-bottom: 4px;\n",
              "    }\n",
              "\n",
              "    [theme=dark] .colab-df-convert {\n",
              "      background-color: #3B4455;\n",
              "      fill: #D2E3FC;\n",
              "    }\n",
              "\n",
              "    [theme=dark] .colab-df-convert:hover {\n",
              "      background-color: #434B5C;\n",
              "      box-shadow: 0px 1px 3px 1px rgba(0, 0, 0, 0.15);\n",
              "      filter: drop-shadow(0px 1px 2px rgba(0, 0, 0, 0.3));\n",
              "      fill: #FFFFFF;\n",
              "    }\n",
              "  </style>\n",
              "\n",
              "    <script>\n",
              "      const buttonEl =\n",
              "        document.querySelector('#df-57e784ed-4577-4271-9513-3d25cb9ebec7 button.colab-df-convert');\n",
              "      buttonEl.style.display =\n",
              "        google.colab.kernel.accessAllowed ? 'block' : 'none';\n",
              "\n",
              "      async function convertToInteractive(key) {\n",
              "        const element = document.querySelector('#df-57e784ed-4577-4271-9513-3d25cb9ebec7');\n",
              "        const dataTable =\n",
              "          await google.colab.kernel.invokeFunction('convertToInteractive',\n",
              "                                                    [key], {});\n",
              "        if (!dataTable) return;\n",
              "\n",
              "        const docLinkHtml = 'Like what you see? Visit the ' +\n",
              "          '<a target=\"_blank\" href=https://colab.research.google.com/notebooks/data_table.ipynb>data table notebook</a>'\n",
              "          + ' to learn more about interactive tables.';\n",
              "        element.innerHTML = '';\n",
              "        dataTable['output_type'] = 'display_data';\n",
              "        await google.colab.output.renderOutput(dataTable, element);\n",
              "        const docLink = document.createElement('div');\n",
              "        docLink.innerHTML = docLinkHtml;\n",
              "        element.appendChild(docLink);\n",
              "      }\n",
              "    </script>\n",
              "  </div>\n",
              "\n",
              "\n",
              "<div id=\"df-16116d07-b042-4c7a-8cb5-f5c3954e6a1e\">\n",
              "  <button class=\"colab-df-quickchart\" onclick=\"quickchart('df-16116d07-b042-4c7a-8cb5-f5c3954e6a1e')\"\n",
              "            title=\"Suggest charts\"\n",
              "            style=\"display:none;\">\n",
              "\n",
              "<svg xmlns=\"http://www.w3.org/2000/svg\" height=\"24px\"viewBox=\"0 0 24 24\"\n",
              "     width=\"24px\">\n",
              "    <g>\n",
              "        <path d=\"M19 3H5c-1.1 0-2 .9-2 2v14c0 1.1.9 2 2 2h14c1.1 0 2-.9 2-2V5c0-1.1-.9-2-2-2zM9 17H7v-7h2v7zm4 0h-2V7h2v10zm4 0h-2v-4h2v4z\"/>\n",
              "    </g>\n",
              "</svg>\n",
              "  </button>\n",
              "\n",
              "<style>\n",
              "  .colab-df-quickchart {\n",
              "      --bg-color: #E8F0FE;\n",
              "      --fill-color: #1967D2;\n",
              "      --hover-bg-color: #E2EBFA;\n",
              "      --hover-fill-color: #174EA6;\n",
              "      --disabled-fill-color: #AAA;\n",
              "      --disabled-bg-color: #DDD;\n",
              "  }\n",
              "\n",
              "  [theme=dark] .colab-df-quickchart {\n",
              "      --bg-color: #3B4455;\n",
              "      --fill-color: #D2E3FC;\n",
              "      --hover-bg-color: #434B5C;\n",
              "      --hover-fill-color: #FFFFFF;\n",
              "      --disabled-bg-color: #3B4455;\n",
              "      --disabled-fill-color: #666;\n",
              "  }\n",
              "\n",
              "  .colab-df-quickchart {\n",
              "    background-color: var(--bg-color);\n",
              "    border: none;\n",
              "    border-radius: 50%;\n",
              "    cursor: pointer;\n",
              "    display: none;\n",
              "    fill: var(--fill-color);\n",
              "    height: 32px;\n",
              "    padding: 0;\n",
              "    width: 32px;\n",
              "  }\n",
              "\n",
              "  .colab-df-quickchart:hover {\n",
              "    background-color: var(--hover-bg-color);\n",
              "    box-shadow: 0 1px 2px rgba(60, 64, 67, 0.3), 0 1px 3px 1px rgba(60, 64, 67, 0.15);\n",
              "    fill: var(--button-hover-fill-color);\n",
              "  }\n",
              "\n",
              "  .colab-df-quickchart-complete:disabled,\n",
              "  .colab-df-quickchart-complete:disabled:hover {\n",
              "    background-color: var(--disabled-bg-color);\n",
              "    fill: var(--disabled-fill-color);\n",
              "    box-shadow: none;\n",
              "  }\n",
              "\n",
              "  .colab-df-spinner {\n",
              "    border: 2px solid var(--fill-color);\n",
              "    border-color: transparent;\n",
              "    border-bottom-color: var(--fill-color);\n",
              "    animation:\n",
              "      spin 1s steps(1) infinite;\n",
              "  }\n",
              "\n",
              "  @keyframes spin {\n",
              "    0% {\n",
              "      border-color: transparent;\n",
              "      border-bottom-color: var(--fill-color);\n",
              "      border-left-color: var(--fill-color);\n",
              "    }\n",
              "    20% {\n",
              "      border-color: transparent;\n",
              "      border-left-color: var(--fill-color);\n",
              "      border-top-color: var(--fill-color);\n",
              "    }\n",
              "    30% {\n",
              "      border-color: transparent;\n",
              "      border-left-color: var(--fill-color);\n",
              "      border-top-color: var(--fill-color);\n",
              "      border-right-color: var(--fill-color);\n",
              "    }\n",
              "    40% {\n",
              "      border-color: transparent;\n",
              "      border-right-color: var(--fill-color);\n",
              "      border-top-color: var(--fill-color);\n",
              "    }\n",
              "    60% {\n",
              "      border-color: transparent;\n",
              "      border-right-color: var(--fill-color);\n",
              "    }\n",
              "    80% {\n",
              "      border-color: transparent;\n",
              "      border-right-color: var(--fill-color);\n",
              "      border-bottom-color: var(--fill-color);\n",
              "    }\n",
              "    90% {\n",
              "      border-color: transparent;\n",
              "      border-bottom-color: var(--fill-color);\n",
              "    }\n",
              "  }\n",
              "</style>\n",
              "\n",
              "  <script>\n",
              "    async function quickchart(key) {\n",
              "      const quickchartButtonEl =\n",
              "        document.querySelector('#' + key + ' button');\n",
              "      quickchartButtonEl.disabled = true;  // To prevent multiple clicks.\n",
              "      quickchartButtonEl.classList.add('colab-df-spinner');\n",
              "      try {\n",
              "        const charts = await google.colab.kernel.invokeFunction(\n",
              "            'suggestCharts', [key], {});\n",
              "      } catch (error) {\n",
              "        console.error('Error during call to suggestCharts:', error);\n",
              "      }\n",
              "      quickchartButtonEl.classList.remove('colab-df-spinner');\n",
              "      quickchartButtonEl.classList.add('colab-df-quickchart-complete');\n",
              "    }\n",
              "    (() => {\n",
              "      let quickchartButtonEl =\n",
              "        document.querySelector('#df-16116d07-b042-4c7a-8cb5-f5c3954e6a1e button');\n",
              "      quickchartButtonEl.style.display =\n",
              "        google.colab.kernel.accessAllowed ? 'block' : 'none';\n",
              "    })();\n",
              "  </script>\n",
              "</div>\n",
              "    </div>\n",
              "  </div>\n"
            ]
          },
          "metadata": {},
          "execution_count": 234
        }
      ]
    },
    {
      "cell_type": "code",
      "source": [
        "#@title Pre-process data with spell check\n",
        "# Load the English library from SpaCy\n",
        "nlp = spacy.load(\"en_core_web_sm\")\n",
        "\n",
        "# Create list of stopwords from spaCy\n",
        "stopwords = spacy.lang.en.stop_words.STOP_WORDS\n",
        "\n",
        "# Creat tokenizer function\n",
        "def pre_processing(sen):\n",
        "\n",
        "  # Create token object from spacy\n",
        "  tokens = nlp(sen)\n",
        "\n",
        "  # Lemmatize each token and convert each token into lowercase and removing proper nouns\n",
        "  tokens = [word.lemma_.lower().strip() for word in tokens if word.pos_ != \"PROPN\"]\n",
        "\n",
        "  # Remove stopwords and white spaces and Remove punctuations\n",
        "  tokens = [word for word in tokens if word not in stopwords and word.isalnum()]\n",
        "\n",
        "  # change all numbers to NUM\n",
        "  tokens = ['NUM' if not token.isalpha() else token for token in tokens]\n",
        "\n",
        "  # return preprocessed list of tokens\n",
        "  return tokens\n",
        "\n",
        "# extract only tweets\n",
        "pre_process_text['pre_processed_text'] = pre_process_text['text'].apply(pre_processing)\n"
      ],
      "metadata": {
        "id": "0jDKtPvaE5-J"
      },
      "execution_count": null,
      "outputs": []
    },
    {
      "cell_type": "code",
      "source": [
        "pre_process_text['pre_processed_text']"
      ],
      "metadata": {
        "colab": {
          "base_uri": "https://localhost:8080/"
        },
        "id": "iMNQZe6eHx-z",
        "outputId": "a7111319-f57e-40b6-beef-d55fb5e60590"
      },
      "execution_count": null,
      "outputs": [
        {
          "output_type": "execute_result",
          "data": {
            "text/plain": [
              "0                                             [responded]\n",
              "1                                                  [miss]\n",
              "2                                           [boss, bully]\n",
              "3                                      [interview, leave]\n",
              "4                                     [son, release, buy]\n",
              "                              ...                        \n",
              "4995                 [look, like, quick, post, dashboard]\n",
              "4996                     [thank, clip, review, scrapbook]\n",
              "4997                 [fiasco, wrap, good, study, midterm]\n",
              "4998                                                [NUM]\n",
              "4999    [sooo, tired, headache, self, inflict, course,...\n",
              "Name: pre_processed_text, Length: 5000, dtype: object"
            ]
          },
          "metadata": {},
          "execution_count": 236
        }
      ]
    },
    {
      "cell_type": "code",
      "source": [
        "# converting the pre-processed tweets into a list\n",
        "pre_processed_text_list = pre_process_text['pre_processed_text'].to_list()"
      ],
      "metadata": {
        "id": "SRFj6VmIH2IV"
      },
      "execution_count": null,
      "outputs": []
    },
    {
      "cell_type": "code",
      "source": [
        "# counting the occurrences of each word using Counter and storing them in a dictionary\n",
        "basic_preproc_tweets_counter_pre_processed = []\n",
        "\n",
        "for x in pre_process_text['pre_processed_text']:\n",
        "  basic_preproc_tweets_counter_pre_processed.append(dict(Counter(x)))"
      ],
      "metadata": {
        "id": "tcqcdPSZH5h_"
      },
      "execution_count": null,
      "outputs": []
    },
    {
      "cell_type": "code",
      "source": [
        "# matrix\n",
        "v_pp = DictVectorizer(sparse = False)\n",
        "basic_preproc_bow_pp = v_pp.fit_transform(basic_preproc_tweets_counter_pre_processed)\n",
        "basic_preproc_bow_pp.shape"
      ],
      "metadata": {
        "colab": {
          "base_uri": "https://localhost:8080/"
        },
        "id": "rh42kU6yIRaL",
        "outputId": "143601d3-1d10-4155-a842-6f23be49594b"
      },
      "execution_count": null,
      "outputs": [
        {
          "output_type": "execute_result",
          "data": {
            "text/plain": [
              "(5000, 4964)"
            ]
          },
          "metadata": {},
          "execution_count": 239
        }
      ]
    },
    {
      "cell_type": "code",
      "source": [
        "# discussed with Aditya Somani\n",
        "# removing top 1000 most common words\n",
        "frequency_of_words = basic_preproc_bow_pp.sum(axis=0)\n",
        "most_common_words_index = np.argpartition(frequency_of_words, -1000)[-1000:]\n",
        "np.sort(most_common_words_index)\n",
        "word_index = [i for i in range(basic_preproc_bow_pp.shape[1]) if i not in most_common_words_index]\n",
        "\n",
        "unchanged_cols = basic_preproc_bow_pp[:, most_common_words_index]\n",
        "combined_col = np.sum(basic_preproc_bow_pp[:, word_index], axis=1, keepdims=True)\n",
        "#Combining top 1000 features with sum of all other features and adding laplace smoothing\n",
        "updated_preproc_bow = np.hstack((unchanged_cols, combined_col)) + 1"
      ],
      "metadata": {
        "id": "hc5k69-vIVI3"
      },
      "execution_count": null,
      "outputs": []
    },
    {
      "cell_type": "code",
      "source": [
        "# splitting the dataset into train and test sets\n",
        "X_pre_processed = updated_preproc_bow\n",
        "y_pre_processed = labels\n",
        "X_train_pre_processed, X_test_pre_processed, y_train_pre_processed, y_test_pre_processed = train_test_split(X_pre_processed, y_pre_processed, test_size=0.20, shuffle=False)"
      ],
      "metadata": {
        "id": "gxHATslwIZAb"
      },
      "execution_count": null,
      "outputs": []
    },
    {
      "cell_type": "code",
      "source": [
        "#@title SkLearn Multinomial Naive Bayes on pre-processed tweets\n",
        "naive_bayes_pp = MultinomialNB()\n",
        "naive_bayes_pp.fit(X_train_pre_processed, y_train_pre_processed)\n",
        "\n",
        "#calling predict function\n",
        "y_pred_nb_pp = naive_bayes_pp.predict(X_test_pre_processed)\n",
        "\n",
        "#calculating accuracy\n",
        "accuracy_nb_pp = metrics.accuracy_score(y_test_pre_processed, y_pred_nb_pp)\n",
        "print(\"Accuracy:\", accuracy_nb_pp)"
      ],
      "metadata": {
        "colab": {
          "base_uri": "https://localhost:8080/"
        },
        "id": "1CNOB_u2IcCS",
        "outputId": "c4020ed7-5551-46d6-fb0a-12d8d296b35a"
      },
      "execution_count": null,
      "outputs": [
        {
          "output_type": "stream",
          "name": "stdout",
          "text": [
            "Accuracy: 0.429\n"
          ]
        }
      ]
    },
    {
      "cell_type": "code",
      "source": [
        "#@title Logistic Regression using skLearn on pre-processed tweets\n",
        "classifier_pp = LogisticRegression(random_state = None, max_iter = 3000)\n",
        "classifier_pp.fit(X_train_pre_processed, y_train_pre_processed)\n",
        "\n",
        "# calling predict function\n",
        "y_pred_lr_pp = classifier_pp.predict(X_test_pre_processed)\n",
        "\n",
        "#calculating accuracy\n",
        "accuracy_lr_pp = metrics.accuracy_score(y_test_pre_processed, y_pred_lr_pp)\n",
        "print(\"Accuracy:\", accuracy_lr_pp)"
      ],
      "metadata": {
        "colab": {
          "base_uri": "https://localhost:8080/"
        },
        "id": "2avHmNoVIevl",
        "outputId": "15a098c0-1a8c-405c-ce81-cc9174b466fd"
      },
      "execution_count": null,
      "outputs": [
        {
          "output_type": "stream",
          "name": "stdout",
          "text": [
            "Accuracy: 0.62\n"
          ]
        }
      ]
    },
    {
      "cell_type": "markdown",
      "source": [
        "###2.\n",
        "Finally, take the best performing model and look at the tweets that were incorrectly categorized. Do you observe any patterns in what the model is making mistakes on? What do you think could be done to further improve results? Provide a sample of tweets  as well as their true label and their predicted label to justify your answers. Note: You do not need to know how to implement the proposed change.\n",
        "\n",
        "<br> **Ans:** The best performing mdel was logistic regression with pre-processing. Most of the incorrect predictions are for tweets that were sarcastic, or had a lot of positive words but in a negative tone or vise versa\n",
        "<br>eg:\n",
        "1. {'the free fillin` app on my ipod is fun, im addicted': {'real': 0, 'predicted': -1}} - This is predicted to be negative words like addicted, but is a neutral tweet.\n",
        "\n",
        "2. {' as much as i love to be hopeful, i reckon the chances are minimal =P i`m never gonna get my cake and stuff': {'real': -1, 'predicted': 1}} - This is the opposite of the previous case where there are a lot of positive words but the sentiment is actually negative.\n",
        "\n",
        "3. {'2am feedings for the baby are fun when he is all smiles and coos': {'real': -1, 'predicted': 0}} - This is a sarcastic tweet interpreted as positive by the model.\n",
        "\n",
        "Proposed change: Using vectorization, such as Word2vec, to get better meanings of words may help the model make better decisions. Using a more complex model instead of logistic regression and training on a more extensive data set with more examples of sarcastic tones would also help improve accuracy.\n",
        "\n",
        "\n"
      ],
      "metadata": {
        "id": "YO2KXqFgEP2f"
      }
    },
    {
      "cell_type": "code",
      "source": [
        "# Tweets that were incorrectly categorized\n",
        "incorrect_labels = []\n",
        "for x in range (len(y_pred_lr_pp)):\n",
        "  if y_pred_lr_pp[x] != y_test_pre_processed[x]:\n",
        "    incorrect_labels.append({raw_tweets['text'].to_list()[x]:{\"real\" : y_test_pre_processed[x], \"predicted\": y_pred_lr_pp[x]}})\n",
        "print(incorrect_labels[:10])"
      ],
      "metadata": {
        "colab": {
          "base_uri": "https://localhost:8080/"
        },
        "id": "rZZXU1mHESdd",
        "outputId": "639de409-a6de-466e-8016-392963501aa2"
      },
      "execution_count": null,
      "outputs": [
        {
          "output_type": "stream",
          "name": "stdout",
          "text": [
            "[{'2am feedings for the baby are fun when he is all smiles and coos': {'real': -1, 'predicted': 0}}, {' Both of you': {'real': -1, 'predicted': 0}}, {' as much as i love to be hopeful, i reckon the chances are minimal =P i`m never gonna get my cake and stuff': {'real': -1, 'predicted': 1}}, {'My Sharpie is running DANGERously low on ink': {'real': 1, 'predicted': -1}}, {'i want to go to music tonight but i lost my voice.': {'real': 1, 'predicted': 0}}, {'i`ve been sick for the past few days  and thus, my hair looks wierd.  if i didnt have a hat on it would look... http://tinyurl.com/mnf4kw': {'real': 1, 'predicted': 0}}, {'is back home now      gonna miss every one': {'real': 0, 'predicted': -1}}, {'oh Marly, I`m so sorry!!  I hope you find her soon!! <3 <3': {'real': -1, 'predicted': 0}}, {'the free fillin` app on my ipod is fun, im addicted': {'real': 0, 'predicted': -1}}, {'juss came backk from Berkeleyy ; omg its madd fun out there  havent been out there in a minute . whassqoodd ?': {'real': 0, 'predicted': -1}}]\n"
          ]
        }
      ]
    }
  ]
}